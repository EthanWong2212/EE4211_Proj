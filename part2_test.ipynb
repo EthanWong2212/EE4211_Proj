{
 "cells": [
  {
   "cell_type": "markdown",
   "metadata": {},
   "source": [
    "**Question 2.1**<br> \n",
    "In this part, you will build a model to forecast the hourly carpark availability in the future\n",
    "(aggregated across all carparks instead of looking at each carpark individually). Can you\n",
    "explain why you may want to forecast the carpark availability in the future? Who would\n",
    "find this information valuable? What can you do if you have a good forecasting model?\n"
   ]
  },
  {
   "cell_type": "markdown",
   "metadata": {},
   "source": [
    "We can find out the potential number of cars on the street at one time as well as the general patterns of people.\n",
    "\n",
    "This is valuable in particular for governments to plan around things such as erp pricing or road maintainence.\n",
    "\n",
    "With a good model, any emergency work to be done can be scheduled for a period where there are lesser cars on the road, or if there needs to be a system wide upgrade for carpark systems."
   ]
  },
  {
   "cell_type": "markdown",
   "metadata": {},
   "source": [
    "**Question 2.2**<br>\n",
    "Build a linear regression model to forecast the hourly carpark availability for a given\n",
    "month. Use the month of July 2022 as a training dataset and the month of August 2022\n",
    "as the test dataset. For this part, do not use additional datasets. The target is the hourly\n",
    "carpark availability percentage and you will have to decide what features you want to\n",
    "use. Generate two plots: (i) Time series plot of the actual and predicted hourly values\n",
    "(ii) Scatter plot of actual vs predicted hourly values (along with a line showing how good\n",
    "the fit is)."
   ]
  },
  {
   "cell_type": "code",
   "execution_count": 3,
   "metadata": {},
   "outputs": [],
   "source": [
    "import requests\n",
    "import json\n",
    "import pandas as pd\n",
    "from datetime import datetime\n",
    "from time import sleep\n",
    "import os\n",
    "import matplotlib.pyplot as plt\n",
    "from datetime import timedelta\n",
    "import numpy as np\n",
    "from sklearn import datasets, metrics\n",
    "from pathlib import Path\n",
    "from sklearn.metrics import mean_squared_error\n",
    "\n",
    "# Convert to datetime iso\n",
    "def toIso(dt):\n",
    "    return datetime.fromisoformat(dt)\n",
    "\n",
    "def carparkApiCall(year, month, day, hour, minute, second, error_count):\n",
    "    def find_local_file(year, month, day, hour, fDir):\n",
    "        myDir = Path('./data/')\n",
    "        filePaths = [file for file in myDir.iterdir() if file.name.startswith(f'{year}{month}{day}T{hour.zfill(2)}')]\n",
    "        is_file_local = False\n",
    "        for file in filePaths:\n",
    "            if os.path.isfile(file): #check if file exist\n",
    "                open(file, 'r')\n",
    "                fDir = file\n",
    "                is_file_local = True\n",
    "                break\n",
    "        return fDir,is_file_local\n",
    "\n",
    "    def print_api_error(year, month, day, hour, minute, second, error_count, data):\n",
    "        print(data)\n",
    "        print(year,'/', month, '/', day, 'T', hour, minute, second)\n",
    "        print(\"error count:\", error_count)\n",
    "\n",
    "    def write_to_file(fDir, data):\n",
    "        timestamp = data[\"items\"][0][\"timestamp\"]\n",
    "        data = data[\"items\"][0][\"carpark_data\"]\n",
    "                #create file if response is valid\n",
    "        os.makedirs(os.path.dirname('./data/'), exist_ok=True)\n",
    "        with open(fDir, 'w') as fp:\n",
    "            json.dump(data, fp)\n",
    "        return data\n",
    "\n",
    "    def read_from_file(fDir):\n",
    "        # read from file    \n",
    "        df = pd.read_json(fDir)\n",
    "        for heading in (\"total_lots\",\"lot_type\",\"lots_available\"):\n",
    "            df[heading] = df[\"carpark_info\"].apply(lambda x: x[0][heading])\n",
    "        \n",
    "        # Transform data\n",
    "        df = df.drop([\"carpark_info\"], axis=1)\n",
    "        df['update_datetime'] = df['update_datetime'].apply(toIso)\n",
    "        df[\"lots_available\"] = df[\"lots_available\"].astype(int)\n",
    "        df[\"total_lots\"] = df[\"total_lots\"].astype(int)\n",
    "        return df\n",
    "    \n",
    "    max_fail_count = 50\n",
    "    fDir = f'./data/{year}{month}{day}T{hour.zfill(2)}{minute.zfill(2)}{second.zfill(2)}.json'\n",
    "    fDir, is_file_local = find_local_file(year, month, day, hour, fDir)\n",
    "    \n",
    "    if not is_file_local: # If file doesn't exist, api call\n",
    "        site = f'https://api.data.gov.sg/v1/transport/carpark-availability?date_time={year}-{month.zfill(2)}-{day.zfill(2)}T{hour.zfill(2)}%3A{minute.zfill(2)}%3A{second.zfill(2)}'\n",
    "        response_API = requests.get(site)\n",
    "        data = response_API.text\n",
    "        data = json.loads(data)\n",
    "        \n",
    "        #check if response is valid\n",
    "        if response_API.ok and \"items\" in data and \"timestamp\" in data[\"items\"][0] and \"carpark_data\" in data[\"items\"][0]:\n",
    "            data = write_to_file(fDir, data)\n",
    "        else:\n",
    "            error_count+=1\n",
    "            print_api_error(year, month, day, hour, minute, second, error_count, data)\n",
    "            if error_count<=max_fail_count:\n",
    "                return carparkApiCall(year, month, day, hour, minute, second, error_count)\n",
    "            else:\n",
    "                f'Api call failed more than {max_fail_count} times :('\n",
    "            \n",
    "    df = read_from_file(fDir)\n",
    "    return df\n",
    "\n",
    "# Calculate average availability in percentage\n",
    "def avrAvail(df):\n",
    "    df[\"availability_percentage\"] = df[\"lots_available\"]/df[\"total_lots\"]\n",
    "    return df[\"availability_percentage\"].sum()/len(df.index)"
   ]
  },
  {
   "cell_type": "code",
   "execution_count": 75,
   "metadata": {},
   "outputs": [],
   "source": [
    "#train set - july\n",
    "\n",
    "# start date 1 Jul 2022 0001\n",
    "\n",
    "year = 2022\n",
    "month = 7\n",
    "day = 1\n",
    "hour = 0\n",
    "minute = 1\n",
    "second = 0\n",
    "\n",
    "dt = datetime(year, month, day, hour, minute, second)\n",
    "dt_interval = timedelta(hours = 1)\n",
    "total_hrs = 24*30\n",
    "\n",
    "# day of week,time of day\n",
    "train_x = []\n",
    "# avalibility percentage\n",
    "train_y = []\n",
    "\n",
    "# generate data\n",
    "for hr in range(total_hrs):\n",
    "    dt = dt + dt_interval\n",
    "    try:\n",
    "        df = carparkApiCall(str(dt.year), str(dt.month), str(dt.day), str(dt.hour), str(dt.minute), str(dt.second), 0)\n",
    "        # day_hour = int(f\"{int(df.loc[0,'update_datetime'].weekday())}\")\n",
    "        # hour = int(f\"{df.loc[0,'update_datetime'].time().hour}\")\n",
    "        train_x.append([int(dt.weekday()), int(dt.hour)])\n",
    "        train_y.append(avrAvail(df))\n",
    "    except:\n",
    "        print(str(dt.year), str(dt.month), str(dt.day), str(dt.hour), str(dt.minute), str(dt.second))\n",
    "train_x = np.array(train_x)"
   ]
  },
  {
   "cell_type": "code",
   "execution_count": 74,
   "metadata": {},
   "outputs": [],
   "source": [
    "#test set - august\n",
    "\n",
    "# start date 1 Aug 2022 0002\n",
    "\n",
    "year = 2022\n",
    "month = 8\n",
    "day = 1\n",
    "hour = 0\n",
    "minute = 1\n",
    "second = 0\n",
    "\n",
    "dt = datetime(year, month, day, hour, minute, second)\n",
    "dt_interval = timedelta(hours = 1)\n",
    "time_intervals = 24*30\n",
    "\n",
    "# day of week,time of day\n",
    "test_x = []\n",
    "# avalibility percentage\n",
    "test_y = []\n",
    "\n",
    "# generate data\n",
    "for _ in range(time_intervals):\n",
    "    dt = dt + dt_interval\n",
    "    try:\n",
    "        df = carparkApiCall(str(dt.year), str(dt.month), str(dt.day), str(dt.hour), str(dt.minute), str(dt.second), 0)\n",
    "        test_y.append(avrAvail(df))\n",
    "        # day_hour = int(f\"{int(df.loc[0,'update_datetime'].weekday())}\")\n",
    "        # hour = int(f\"{df.loc[0,'update_datetime'].time().hour}\")\n",
    "        test_x.append([int(dt.weekday()), int(dt.hour)])\n",
    "    except:\n",
    "        print(str(dt.year), str(dt.month), str(dt.day), str(dt.hour), str(dt.minute), str(dt.second))\n",
    "    \n",
    "    "
   ]
  },
  {
   "cell_type": "code",
   "execution_count": 82,
   "metadata": {},
   "outputs": [
    {
     "name": "stdout",
     "output_type": "stream",
     "text": [
      "0.0030602352519779794 2\n"
     ]
    },
    {
     "data": {
      "text/plain": [
       "[<matplotlib.lines.Line2D at 0x27916965be0>]"
      ]
     },
     "execution_count": 82,
     "metadata": {},
     "output_type": "execute_result"
    },
    {
     "data": {
      "image/png": "[encoded data removed]",
      "text/plain": [
       "<Figure size 432x288 with 1 Axes>"
      ]
     },
     "metadata": {
      "needs_background": "light"
     },
     "output_type": "display_data"
    }
   ],
   "source": [
    "import sklearn.linear_model as lm\n",
    "from sklearn.preprocessing import PolynomialFeatures\n",
    "dim = 2\n",
    "final_dim = 0\n",
    "mse_arr = []\n",
    "mse = 99999999999999999\n",
    "def linear_regressor(dim):\n",
    "    poly = PolynomialFeatures(dim)\n",
    "    train_x_poly = poly.fit_transform(train_x.reshape(-1,2))\n",
    "    test_x_poly = poly.fit_transform(np.asarray(test_x).reshape(-1,2))\n",
    "    regressor = lm.LinearRegression()  \n",
    "    regressor.fit(train_x_poly, train_y) #training the algorithm\n",
    "    # print(regressor.coef_)\n",
    "    predicted = regressor.predict(test_x_poly)\n",
    "    return regressor,mean_squared_error(train_y, predicted)\n",
    "\n",
    "while dim<=50:     \n",
    "    temp_regressor,temp_mse = linear_regressor(dim)\n",
    "    mse_arr.append(temp_mse)\n",
    "    if temp_mse<mse:\n",
    "        regressor = temp_regressor\n",
    "        final_dim = dim\n",
    "        mse = temp_mse\n",
    "    dim += 1\n",
    "print(mse,final_dim)\n",
    "plt.plot([x for x in range(len(mse_arr))], mse_arr, color=\"blue\", linewidth=3)\n"
   ]
  },
  {
   "cell_type": "code",
   "execution_count": 81,
   "metadata": {},
   "outputs": [
    {
     "name": "stdout",
     "output_type": "stream",
     "text": [
      "0.003129610699935258\n"
     ]
    },
    {
     "data": {
      "image/png": "[encoded data removed]",
      "text/plain": [
       "<Figure size 432x288 with 1 Axes>"
      ]
     },
     "metadata": {},
     "output_type": "display_data"
    }
   ],
   "source": [
    "poly = PolynomialFeatures(final_dim)\n",
    "test_x_poly = poly.fit_transform(np.asarray(test_x).reshape(-1,2))\n",
    "predicted = regressor.predict(test_x_poly)\n",
    "print(mean_squared_error(train_y, predicted))\n",
    "# Plot outputs\n",
    "plt.scatter([x for x in range(len(test_y))], test_y, color=\"black\")\n",
    "plt.plot([x for x in range(len(predicted))], predicted, color=\"blue\", linewidth=3)\n",
    "\n",
    "plt.xticks(())\n",
    "plt.yticks(())\n",
    "\n",
    "plt.show()"
   ]
  },
  {
   "cell_type": "markdown",
   "metadata": {},
   "source": [
    "**Question 2.3**<br>\n",
    "Do the same as Question 2.2 above but use support vector regressor (SVR).\n"
   ]
  },
  {
   "cell_type": "code",
   "execution_count": 63,
   "metadata": {},
   "outputs": [
    {
     "data": {
      "image/png": "[encoded data removed]",
      "text/plain": [
       "<Figure size 432x288 with 1 Axes>"
      ]
     },
     "metadata": {
      "needs_background": "light"
     },
     "output_type": "display_data"
    }
   ],
   "source": [
    "from sklearn.svm import SVR\n",
    "from sklearn.preprocessing import PolynomialFeatures\n",
    "# from sklearn.preprocessing import StandardScaler\n",
    "# sc_X = StandardScaler()\n",
    "# sc_y = StandardScaler()\n",
    "# X = sc_X.fit_transform(train_x.reshape(-1, 2))\n",
    "# y = sc_y.fit_transform(np.asarray(train_y).reshape(-1, 1))\n",
    "\n",
    "dim = 20\n",
    "poly = PolynomialFeatures(dim)\n",
    "train_x_poly = poly.fit_transform(train_x.reshape(-1,2))\n",
    "test_x_poly = poly.fit_transform(np.asarray(test_x).reshape(-1,2))\n",
    "regressor.fit(train_x_poly, train_y) #training the algorithm\n",
    "\n",
    "regressor = SVR(kernel='rbf',gamma = 15)\n",
    "regressor.fit(train_x_poly,test_y)\n",
    "\n",
    "predicted = regressor.predict(test_x_poly)\n",
    "\n",
    "plt.plot([x for x in range(len(predicted))], predicted, color=\"blue\")\n",
    "# plt.plot(x_grid, predicted, color=\"blue\", linewidth=3)\n",
    "plt.scatter([x for x in range(len(train_y))], train_y, color=\"black\")\n",
    "\n",
    "# plt.xticks(())\n",
    "# plt.yticks(())\n",
    "\n",
    "plt.show()"
   ]
  },
  {
   "cell_type": "code",
   "execution_count": null,
   "metadata": {},
   "outputs": [
    {
     "name": "stderr",
     "output_type": "stream",
     "text": [
      "C:\\ProgramData\\Anaconda3\\lib\\site-packages\\sklearn\\utils\\validation.py:993: DataConversionWarning: A column-vector y was passed when a 1d array was expected. Please change the shape of y to (n_samples, ), for example using ravel().\n",
      "  y = column_or_1d(y, warn=True)\n"
     ]
    },
    {
     "ename": "ValueError",
     "evalue": "The truth value of an array with more than one element is ambiguous. Use a.any() or a.all()",
     "output_type": "error",
     "traceback": [
      "\u001b[1;31m---------------------------------------------------------------------------\u001b[0m",
      "\u001b[1;31mValueError\u001b[0m                                Traceback (most recent call last)",
      "Input \u001b[1;32mIn [33]\u001b[0m, in \u001b[0;36m<cell line: 12>\u001b[1;34m()\u001b[0m\n\u001b[0;32m      9\u001b[0m tX \u001b[38;5;241m=\u001b[39m sc_test_x\u001b[38;5;241m.\u001b[39mfit_transform(np\u001b[38;5;241m.\u001b[39masarray(test_x)\u001b[38;5;241m.\u001b[39mreshape(\u001b[38;5;241m-\u001b[39m\u001b[38;5;241m1\u001b[39m, \u001b[38;5;241m2\u001b[39m))\n\u001b[0;32m     10\u001b[0m predicted \u001b[38;5;241m=\u001b[39m regressor\u001b[38;5;241m.\u001b[39mpredict(tX)\n\u001b[1;32m---> 12\u001b[0m x_grid \u001b[38;5;241m=\u001b[39m np\u001b[38;5;241m.\u001b[39marange(\u001b[38;5;28;43mmin\u001b[39;49m\u001b[43m(\u001b[49m\u001b[43mtX\u001b[49m\u001b[43m)\u001b[49m,\u001b[38;5;28mmax\u001b[39m(tX),\u001b[38;5;241m4\u001b[39m\u001b[38;5;241m/\u001b[39m\u001b[38;5;241m857\u001b[39m)\n\u001b[0;32m     13\u001b[0m x_grid \u001b[38;5;241m=\u001b[39m x_grid\u001b[38;5;241m.\u001b[39mreshape(\u001b[38;5;28mlen\u001b[39m(x_grid),\u001b[38;5;241m1\u001b[39m)\n\u001b[0;32m     14\u001b[0m plt\u001b[38;5;241m.\u001b[39mplot([x \u001b[38;5;28;01mfor\u001b[39;00m x \u001b[38;5;129;01min\u001b[39;00m \u001b[38;5;28mrange\u001b[39m(\u001b[38;5;28mlen\u001b[39m(predicted))], predicted, color\u001b[38;5;241m=\u001b[39m\u001b[38;5;124m\"\u001b[39m\u001b[38;5;124mblue\u001b[39m\u001b[38;5;124m\"\u001b[39m)\n",
      "\u001b[1;31mValueError\u001b[0m: The truth value of an array with more than one element is ambiguous. Use a.any() or a.all()"
     ]
    }
   ],
   "source": [
    "\n",
    "from sklearn.svm import SVR\n",
    "# most important SVR parameter is Kernel type. It can be #linear,polynomial or gaussian SVR. We have a non-linear condition #so we can select polynomial or gaussian but here we select RBF(a #gaussian type) kernel.\n",
    "regressor = SVR(kernel='rbf',gamma = 15)\n",
    "regressor.fit(X,y)\n",
    "# regressor.fit(train_x.reshape(-1, 1),train_y)\n",
    "#5 Predicting a new result\n",
    "\n",
    "sc_test_x = StandardScaler()\n",
    "tX = sc_test_x.fit_transform(np.asarray(test_x).reshape(-1, 2))\n",
    "predicted = regressor.predict(tX)\n",
    "\n",
    "x_grid = np.arange(min(tX),max(tX),4/857)\n",
    "x_grid = x_grid.reshape(len(x_grid),1)\n",
    "plt.plot([x for x in range(len(predicted))], predicted, color=\"blue\")\n",
    "# plt.plot(x_grid, predicted, color=\"blue\", linewidth=3)\n",
    "plt.scatter([x for x in range(len(y))], y, color=\"black\")\n",
    "\n",
    "# plt.xticks(())\n",
    "# plt.yticks(())\n",
    "\n",
    "plt.show()"
   ]
  },
  {
   "cell_type": "code",
   "execution_count": 92,
   "metadata": {},
   "outputs": [
    {
     "name": "stdout",
     "output_type": "stream",
     "text": [
      "  (0, 4)\t1.0\n",
      "  (0, 8)\t1.0\n",
      "  (1, 4)\t1.0\n",
      "  (1, 9)\t1.0\n",
      "  (2, 4)\t1.0\n",
      "  (2, 10)\t1.0\n",
      "  (3, 4)\t1.0\n",
      "  (3, 11)\t1.0\n",
      "  (4, 4)\t1.0\n",
      "  (4, 12)\t1.0\n",
      "  (5, 4)\t1.0\n",
      "  (5, 13)\t1.0\n",
      "  (6, 4)\t1.0\n",
      "  (6, 14)\t1.0\n",
      "  (7, 4)\t1.0\n",
      "  (7, 15)\t1.0\n",
      "  (8, 4)\t1.0\n",
      "  (8, 16)\t1.0\n",
      "  (9, 4)\t1.0\n",
      "  (9, 17)\t1.0\n",
      "  (10, 4)\t1.0\n",
      "  (10, 18)\t1.0\n",
      "  (11, 4)\t1.0\n",
      "  (11, 19)\t1.0\n",
      "  (12, 4)\t1.0\n",
      "  :\t:\n",
      "  (707, 19)\t1.0\n",
      "  (708, 5)\t1.0\n",
      "  (708, 20)\t1.0\n",
      "  (709, 5)\t1.0\n",
      "  (709, 21)\t1.0\n",
      "  (710, 5)\t1.0\n",
      "  (710, 22)\t1.0\n",
      "  (711, 5)\t1.0\n",
      "  (711, 23)\t1.0\n",
      "  (712, 5)\t1.0\n",
      "  (712, 24)\t1.0\n",
      "  (713, 5)\t1.0\n",
      "  (713, 25)\t1.0\n",
      "  (714, 5)\t1.0\n",
      "  (714, 26)\t1.0\n",
      "  (715, 5)\t1.0\n",
      "  (715, 27)\t1.0\n",
      "  (716, 5)\t1.0\n",
      "  (716, 28)\t1.0\n",
      "  (717, 5)\t1.0\n",
      "  (717, 29)\t1.0\n",
      "  (718, 5)\t1.0\n",
      "  (718, 30)\t1.0\n",
      "  (719, 6)\t1.0\n",
      "  (719, 7)\t1.0\n"
     ]
    }
   ],
   "source": [
    "from sklearn.preprocessing import OneHotEncoder\n",
    "\n",
    "enc = OneHotEncoder(handle_unknown='ignore')\n",
    "enc.fit(test_x)\n",
    "X_train = enc.fit_transform(train_x)\n",
    "\n",
    "X_test = enc.transform(test_x)\n",
    "print(X_train)"
   ]
  },
  {
   "cell_type": "markdown",
   "metadata": {},
   "source": [
    "**Question 2.4**<br>\n",
    "Do the same as Question 2.2 above but use decision tree (DT) regressor."
   ]
  },
  {
   "cell_type": "code",
   "execution_count": 95,
   "metadata": {},
   "outputs": [
    {
     "ename": "ValueError",
     "evalue": "setting an array element with a sequence.",
     "output_type": "error",
     "traceback": [
      "\u001b[1;31m---------------------------------------------------------------------------\u001b[0m",
      "\u001b[1;31mTypeError\u001b[0m                                 Traceback (most recent call last)",
      "\u001b[1;31mTypeError\u001b[0m: float() argument must be a string or a number, not 'csr_matrix'",
      "\nThe above exception was the direct cause of the following exception:\n",
      "\u001b[1;31mValueError\u001b[0m                                Traceback (most recent call last)",
      "\u001b[1;32mc:\\OneDriveNus\\OneDrive - National University of Singapore\\Nus Year 4 Sem 1\\EE4211 Data Science for the Internet of Things\\Project\\EE4211_Proj\\part2_test.ipynb Cell 23\u001b[0m in \u001b[0;36m<cell line: 11>\u001b[1;34m()\u001b[0m\n\u001b[0;32m     <a href='vscode-notebook-cell:/c%3A/OneDriveNus/OneDrive%20-%20National%20University%20of%20Singapore/Nus%20Year%204%20Sem%201/EE4211%20Data%20Science%20for%20the%20Internet%20of%20Things/Project/EE4211_Proj/part2_test.ipynb#X31sZmlsZQ%3D%3D?line=11'>12</a>\u001b[0m temp_regressor \u001b[39m=\u001b[39m DecisionTreeRegressor(max_depth\u001b[39m=\u001b[39mdepth) \n\u001b[0;32m     <a href='vscode-notebook-cell:/c%3A/OneDriveNus/OneDrive%20-%20National%20University%20of%20Singapore/Nus%20Year%204%20Sem%201/EE4211%20Data%20Science%20for%20the%20Internet%20of%20Things/Project/EE4211_Proj/part2_test.ipynb#X31sZmlsZQ%3D%3D?line=12'>13</a>\u001b[0m \u001b[39m# fit the regressor with X and Y data\u001b[39;00m\n\u001b[1;32m---> <a href='vscode-notebook-cell:/c%3A/OneDriveNus/OneDrive%20-%20National%20University%20of%20Singapore/Nus%20Year%204%20Sem%201/EE4211%20Data%20Science%20for%20the%20Internet%20of%20Things/Project/EE4211_Proj/part2_test.ipynb#X31sZmlsZQ%3D%3D?line=13'>14</a>\u001b[0m temp_regressor\u001b[39m.\u001b[39;49mfit(np\u001b[39m.\u001b[39;49masarray(X_train)\u001b[39m.\u001b[39;49mreshape(\u001b[39m-\u001b[39;49m\u001b[39m1\u001b[39;49m, \u001b[39m1\u001b[39;49m), train_y)\n\u001b[0;32m     <a href='vscode-notebook-cell:/c%3A/OneDriveNus/OneDrive%20-%20National%20University%20of%20Singapore/Nus%20Year%204%20Sem%201/EE4211%20Data%20Science%20for%20the%20Internet%20of%20Things/Project/EE4211_Proj/part2_test.ipynb#X31sZmlsZQ%3D%3D?line=14'>15</a>\u001b[0m \u001b[39m#5 Predicting a new result\u001b[39;00m\n\u001b[0;32m     <a href='vscode-notebook-cell:/c%3A/OneDriveNus/OneDrive%20-%20National%20University%20of%20Singapore/Nus%20Year%204%20Sem%201/EE4211%20Data%20Science%20for%20the%20Internet%20of%20Things/Project/EE4211_Proj/part2_test.ipynb#X31sZmlsZQ%3D%3D?line=15'>16</a>\u001b[0m predicted \u001b[39m=\u001b[39m temp_regressor\u001b[39m.\u001b[39mpredict(np\u001b[39m.\u001b[39masarray(test_x)\u001b[39m.\u001b[39mreshape(\u001b[39m-\u001b[39m\u001b[39m1\u001b[39m, \u001b[39m1\u001b[39m))\n",
      "File \u001b[1;32mc:\\Users\\yujin\\Anaconda3\\lib\\site-packages\\sklearn\\tree\\_classes.py:1315\u001b[0m, in \u001b[0;36mDecisionTreeRegressor.fit\u001b[1;34m(self, X, y, sample_weight, check_input, X_idx_sorted)\u001b[0m\n\u001b[0;32m   1278\u001b[0m \u001b[39mdef\u001b[39;00m \u001b[39mfit\u001b[39m(\n\u001b[0;32m   1279\u001b[0m     \u001b[39mself\u001b[39m, X, y, sample_weight\u001b[39m=\u001b[39m\u001b[39mNone\u001b[39;00m, check_input\u001b[39m=\u001b[39m\u001b[39mTrue\u001b[39;00m, X_idx_sorted\u001b[39m=\u001b[39m\u001b[39m\"\u001b[39m\u001b[39mdeprecated\u001b[39m\u001b[39m\"\u001b[39m\n\u001b[0;32m   1280\u001b[0m ):\n\u001b[0;32m   1281\u001b[0m     \u001b[39m\"\"\"Build a decision tree regressor from the training set (X, y).\u001b[39;00m\n\u001b[0;32m   1282\u001b[0m \n\u001b[0;32m   1283\u001b[0m \u001b[39m    Parameters\u001b[39;00m\n\u001b[1;32m   (...)\u001b[0m\n\u001b[0;32m   1312\u001b[0m \u001b[39m        Fitted estimator.\u001b[39;00m\n\u001b[0;32m   1313\u001b[0m \u001b[39m    \"\"\"\u001b[39;00m\n\u001b[1;32m-> 1315\u001b[0m     \u001b[39msuper\u001b[39;49m()\u001b[39m.\u001b[39;49mfit(\n\u001b[0;32m   1316\u001b[0m         X,\n\u001b[0;32m   1317\u001b[0m         y,\n\u001b[0;32m   1318\u001b[0m         sample_weight\u001b[39m=\u001b[39;49msample_weight,\n\u001b[0;32m   1319\u001b[0m         check_input\u001b[39m=\u001b[39;49mcheck_input,\n\u001b[0;32m   1320\u001b[0m         X_idx_sorted\u001b[39m=\u001b[39;49mX_idx_sorted,\n\u001b[0;32m   1321\u001b[0m     )\n\u001b[0;32m   1322\u001b[0m     \u001b[39mreturn\u001b[39;00m \u001b[39mself\u001b[39m\n",
      "File \u001b[1;32mc:\\Users\\yujin\\Anaconda3\\lib\\site-packages\\sklearn\\tree\\_classes.py:165\u001b[0m, in \u001b[0;36mBaseDecisionTree.fit\u001b[1;34m(self, X, y, sample_weight, check_input, X_idx_sorted)\u001b[0m\n\u001b[0;32m    163\u001b[0m check_X_params \u001b[39m=\u001b[39m \u001b[39mdict\u001b[39m(dtype\u001b[39m=\u001b[39mDTYPE, accept_sparse\u001b[39m=\u001b[39m\u001b[39m\"\u001b[39m\u001b[39mcsc\u001b[39m\u001b[39m\"\u001b[39m)\n\u001b[0;32m    164\u001b[0m check_y_params \u001b[39m=\u001b[39m \u001b[39mdict\u001b[39m(ensure_2d\u001b[39m=\u001b[39m\u001b[39mFalse\u001b[39;00m, dtype\u001b[39m=\u001b[39m\u001b[39mNone\u001b[39;00m)\n\u001b[1;32m--> 165\u001b[0m X, y \u001b[39m=\u001b[39m \u001b[39mself\u001b[39;49m\u001b[39m.\u001b[39;49m_validate_data(\n\u001b[0;32m    166\u001b[0m     X, y, validate_separately\u001b[39m=\u001b[39;49m(check_X_params, check_y_params)\n\u001b[0;32m    167\u001b[0m )\n\u001b[0;32m    168\u001b[0m \u001b[39mif\u001b[39;00m issparse(X):\n\u001b[0;32m    169\u001b[0m     X\u001b[39m.\u001b[39msort_indices()\n",
      "File \u001b[1;32mc:\\Users\\yujin\\Anaconda3\\lib\\site-packages\\sklearn\\base.py:578\u001b[0m, in \u001b[0;36mBaseEstimator._validate_data\u001b[1;34m(self, X, y, reset, validate_separately, **check_params)\u001b[0m\n\u001b[0;32m    572\u001b[0m \u001b[39mif\u001b[39;00m validate_separately:\n\u001b[0;32m    573\u001b[0m     \u001b[39m# We need this because some estimators validate X and y\u001b[39;00m\n\u001b[0;32m    574\u001b[0m     \u001b[39m# separately, and in general, separately calling check_array()\u001b[39;00m\n\u001b[0;32m    575\u001b[0m     \u001b[39m# on X and y isn't equivalent to just calling check_X_y()\u001b[39;00m\n\u001b[0;32m    576\u001b[0m     \u001b[39m# :(\u001b[39;00m\n\u001b[0;32m    577\u001b[0m     check_X_params, check_y_params \u001b[39m=\u001b[39m validate_separately\n\u001b[1;32m--> 578\u001b[0m     X \u001b[39m=\u001b[39m check_array(X, \u001b[39m*\u001b[39m\u001b[39m*\u001b[39mcheck_X_params)\n\u001b[0;32m    579\u001b[0m     y \u001b[39m=\u001b[39m check_array(y, \u001b[39m*\u001b[39m\u001b[39m*\u001b[39mcheck_y_params)\n\u001b[0;32m    580\u001b[0m \u001b[39melse\u001b[39;00m:\n",
      "File \u001b[1;32mc:\\Users\\yujin\\Anaconda3\\lib\\site-packages\\sklearn\\utils\\validation.py:746\u001b[0m, in \u001b[0;36mcheck_array\u001b[1;34m(array, accept_sparse, accept_large_sparse, dtype, order, copy, force_all_finite, ensure_2d, allow_nd, ensure_min_samples, ensure_min_features, estimator)\u001b[0m\n\u001b[0;32m    744\u001b[0m         array \u001b[39m=\u001b[39m array\u001b[39m.\u001b[39mastype(dtype, casting\u001b[39m=\u001b[39m\u001b[39m\"\u001b[39m\u001b[39munsafe\u001b[39m\u001b[39m\"\u001b[39m, copy\u001b[39m=\u001b[39m\u001b[39mFalse\u001b[39;00m)\n\u001b[0;32m    745\u001b[0m     \u001b[39melse\u001b[39;00m:\n\u001b[1;32m--> 746\u001b[0m         array \u001b[39m=\u001b[39m np\u001b[39m.\u001b[39;49masarray(array, order\u001b[39m=\u001b[39;49morder, dtype\u001b[39m=\u001b[39;49mdtype)\n\u001b[0;32m    747\u001b[0m \u001b[39mexcept\u001b[39;00m ComplexWarning \u001b[39mas\u001b[39;00m complex_warning:\n\u001b[0;32m    748\u001b[0m     \u001b[39mraise\u001b[39;00m \u001b[39mValueError\u001b[39;00m(\n\u001b[0;32m    749\u001b[0m         \u001b[39m\"\u001b[39m\u001b[39mComplex data not supported\u001b[39m\u001b[39m\\n\u001b[39;00m\u001b[39m{}\u001b[39;00m\u001b[39m\\n\u001b[39;00m\u001b[39m\"\u001b[39m\u001b[39m.\u001b[39mformat(array)\n\u001b[0;32m    750\u001b[0m     ) \u001b[39mfrom\u001b[39;00m \u001b[39mcomplex_warning\u001b[39;00m\n",
      "\u001b[1;31mValueError\u001b[0m: setting an array element with a sequence."
     ]
    }
   ],
   "source": [
    "\n",
    "# import the regressor\n",
    "from sklearn.tree import DecisionTreeRegressor \n",
    "  \n",
    "# create a regressor object\n",
    "depth = 2\n",
    "final_depth = 0\n",
    "mse_arr = []\n",
    "mse = 99999999999999999\n",
    "\n",
    "  \n",
    "while depth<=50: \n",
    "    temp_regressor = DecisionTreeRegressor(max_depth=depth) \n",
    "    # fit the regressor with X and Y data\n",
    "    temp_regressor.fit(X_train.reshape(-1, 1), train_y)\n",
    "    #5 Predicting a new result\n",
    "    predicted = temp_regressor.predict(np.asarray(test_x).reshape(-1, 1))\n",
    "    temp_mse = mean_squared_error(train_y, predicted)\n",
    "    mse_arr.append(temp_mse)\n",
    "    if mse > temp_mse:\n",
    "        mse = temp_mse\n",
    "        regressor = temp_regressor\n",
    "        final_depth = depth\n",
    "    depth += 1\n",
    "\n",
    "print(mse,final_dim)\n",
    "plt.plot([x for x in range(len(mse_arr))], mse_arr, color=\"blue\", linewidth=3)\n",
    "\n",
    "# plt.scatter([x for x in range(len(test_y))], test_y, color=\"black\")\n",
    "# plt.plot([x for x in range(len(predicted))], predicted, color=\"blue\")\n",
    "\n",
    "# plt.xticks(())\n",
    "# plt.yticks(())\n",
    "\n",
    "# plt.show()"
   ]
  },
  {
   "cell_type": "code",
   "execution_count": null,
   "metadata": {},
   "outputs": [],
   "source": [
    "# import export_graphviz\n",
    "from sklearn.tree import export_graphviz \n",
    "  \n",
    "# export the decision tree to a tree.dot file\n",
    "# for visualizing the plot easily anywhere\n",
    "export_graphviz(regressor, out_file ='tree.dot',\n",
    "               feature_names =['Production Cost']) "
   ]
  },
  {
   "cell_type": "markdown",
   "metadata": {},
   "source": [
    "**Question 2.5**<br>\n",
    "Make a final recommendation for the best regression model (out of the 3 methods above)\n",
    "by choosing a suitable performance metric. To ensure a fair comparison, carry out hyper-parameter tuning for all 3 methods. Then, make a final recommendation selecting only\n",
    "one model. Include both quantitative and qualitative arguments for your choice.\n"
   ]
  },
  {
   "cell_type": "code",
   "execution_count": null,
   "metadata": {},
   "outputs": [],
   "source": []
  }
 ],
 "metadata": {
  "kernelspec": {
   "display_name": "Python 3 (ipykernel)",
   "language": "python",
   "name": "python3"
  },
  "language_info": {
   "codemirror_mode": {
    "name": "ipython",
    "version": 3
   },
   "file_extension": ".py",
   "mimetype": "text/x-python",
   "name": "python",
   "nbconvert_exporter": "python",
   "pygments_lexer": "ipython3",
   "version": "3.9.12"
  },
  "vscode": {
   "interpreter": {
    "hash": "dfc646ace96e46a9e7957d526a3b1ae5c0eae926cd62f2c7ce0535c6af85fd9b"
   }
  }
 },
 "nbformat": 4,
 "nbformat_minor": 2
}
