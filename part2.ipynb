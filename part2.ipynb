{
 "cells": [
  {
   "cell_type": "markdown",
   "metadata": {},
   "source": [
    "**Question 2.1**<br> \n",
    "In this part, you will build a model to forecast the hourly carpark availability in the future\n",
    "(aggregated across all carparks instead of looking at each carpark individually). Can you\n",
    "explain why you may want to forecast the carpark availability in the future? Who would\n",
    "find this information valuable? What can you do if you have a good forecasting model?\n"
   ]
  },
  {
   "cell_type": "markdown",
   "metadata": {},
   "source": [
    "We can find out the potential number of cars on the street at one time as well as the general patterns of people.\n",
    "\n",
    "This is valuable in particular for governments to plan around things such as erp pricing or road maintainence.\n",
    "\n",
    "With a good model, any emergency work to be done can be scheduled for a period where there are lesser cars on the road, or if there needs to be a system wide upgrade for carpark systems."
   ]
  },
  {
   "cell_type": "markdown",
   "metadata": {},
   "source": [
    "**Question 2.2**<br>\n",
    "Build a linear regression model to forecast the hourly carpark availability for a given\n",
    "month. Use the month of July 2022 as a training dataset and the month of August 2022\n",
    "as the test dataset. For this part, do not use additional datasets. The target is the hourly\n",
    "carpark availability percentage and you will have to decide what features you want to\n",
    "use. Generate two plots: (i) Time series plot of the actual and predicted hourly values\n",
    "(ii) Scatter plot of actual vs predicted hourly values (along with a line showing how good\n",
    "the fit is)."
   ]
  },
  {
   "cell_type": "code",
   "execution_count": 10,
   "metadata": {},
   "outputs": [],
   "source": [
    "import requests\n",
    "import json\n",
    "import pandas as pd\n",
    "from datetime import datetime\n",
    "from time import sleep\n",
    "import os\n",
    "import matplotlib.pyplot as plt\n",
    "from datetime import timedelta\n",
    "import numpy as np\n",
    "\n",
    "# Convert to datetime iso\n",
    "def toIso(dt):\n",
    "    return datetime.fromisoformat(dt)\n",
    "    \n",
    "\n",
    "def carparkApiCall(year, month, day, hour, minute, second, error_count):\n",
    "    fDir = f'./data/{year}{month}{day}T{hour.zfill(2)}{minute.zfill(2)}{second.zfill(2)}.json'\n",
    "    try:\n",
    "        open(fDir, 'r')\n",
    "    except:\n",
    "        os.makedirs(os.path.dirname('./data/'), exist_ok=True)\n",
    "        # If file doesn't exist, api call\n",
    "        site = f'https://api.data.gov.sg/v1/transport/carpark-availability?date_time={year}-{month.zfill(2)}-{day.zfill(2)}T{hour.zfill(2)}%3A{minute.zfill(2)}%3A{second.zfill(2)}'\n",
    "        # print(site)\n",
    "        response_API = requests.get(site)\n",
    "        data = response_API.text\n",
    "        data = json.loads(data)\n",
    "        try:\n",
    "            timestamp = data[\"items\"][0][\"timestamp\"]\n",
    "            data = data[\"items\"][0][\"carpark_data\"]\n",
    "        except:\n",
    "            print(data)\n",
    "            print(year,'/', month, '/', day, 'T', hour, minute, second)\n",
    "            error_count+=1\n",
    "            print(\"error count:\", error_count)\n",
    "            if error_count<=50:\n",
    "                return carparkApiCall(year, month, day, hour, minute, second, error_count)\n",
    "            else:\n",
    "                \"Api call failed more than 5 times :(\"\n",
    "        # print(timestamp)\n",
    "        with open(fDir, 'w') as fp:\n",
    "            json.dump(data, fp)\n",
    "    df = pd.read_json(fDir)\n",
    "    for heading in (\"total_lots\",\"lot_type\",\"lots_available\"):\n",
    "        df[heading] = df[\"carpark_info\"].apply(lambda x: x[0][heading])\n",
    "    # Transform data\n",
    "    df = df.drop([\"carpark_info\"], axis=1)\n",
    "    df['update_datetime'] = df['update_datetime'].apply(toIso)\n",
    "    df[\"lots_available\"] = df[\"lots_available\"].astype(int)\n",
    "    df[\"total_lots\"] = df[\"total_lots\"].astype(int)\n",
    "    return df\n",
    "\n",
    "# Calculate average availability in percentage\n",
    "def avrAvail(df):\n",
    "    df[\"availability_percentage\"] = df[\"lots_available\"]/df[\"total_lots\"]\n",
    "    return df[\"availability_percentage\"].sum()/len(df.index)"
   ]
  },
  {
   "cell_type": "code",
   "execution_count": 3,
   "metadata": {},
   "outputs": [],
   "source": [
    "#train set - july\n",
    "\n",
    "# start date 1 Jul 2022 0001\n",
    "\n",
    "year = 2022\n",
    "month = 7\n",
    "day = 1\n",
    "hour = 0\n",
    "minute = 1\n",
    "second = 0\n",
    "\n",
    "dt = datetime(year, month, day, hour, minute, second)\n",
    "dt_interval = timedelta(hours = 1)\n",
    "total_hrs = 24*30\n",
    "\n",
    "# day of week,time of day\n",
    "train_x = [[],[]]\n",
    "# avalibility percentage\n",
    "train_y = []\n",
    "\n",
    "# generate data\n",
    "for hr in range(total_hrs):\n",
    "    dt = dt + dt_interval\n",
    "    df = carparkApiCall(str(dt.year), str(dt.month), str(dt.day), str(dt.hour), str(dt.minute), str(dt.second), 0)\n",
    "    train_x[0].append(df.loc[0,'update_datetime'].weekday())\n",
    "    train_x[1].append(df.loc[0,'update_datetime'].timestamp())\n",
    "    train_y.append(avrAvail(df))\n",
    "train_x = np.array(train_x)"
   ]
  },
  {
   "cell_type": "code",
   "execution_count": 12,
   "metadata": {},
   "outputs": [
    {
     "name": "stdout",
     "output_type": "stream",
     "text": [
      "2022 8 4 0 2 0\n",
      "2022 8 18 0 2 0\n"
     ]
    }
   ],
   "source": [
    "#test set - august\n",
    "\n",
    "# start date 1 Aug 2022 0002\n",
    "\n",
    "year = 2022\n",
    "month = 8\n",
    "day = 1\n",
    "hour = 0\n",
    "minute = 2\n",
    "second = 0\n",
    "\n",
    "dt = datetime(year, month, day, hour, minute, second)\n",
    "dt_interval = timedelta(hours = 1)\n",
    "total_hrs = 24*30\n",
    "\n",
    "# day of week,time of day\n",
    "test_x = [[],[]]\n",
    "# avalibility percentage\n",
    "test_y = []\n",
    "\n",
    "# generate data\n",
    "for hr in range(total_hrs):\n",
    "    dt = dt + dt_interval\n",
    "    try:\n",
    "        df = carparkApiCall(str(dt.year), str(dt.month), str(dt.day), str(dt.hour), str(dt.minute), str(dt.second), 0)\n",
    "        test_y.append(avrAvail(df))\n",
    "        test_x[0].append(df.loc[0,'update_datetime'].weekday())\n",
    "        test_x[1].append(df.loc[0,'update_datetime'].timestamp())\n",
    "    except:\n",
    "        print(str(dt.year), str(dt.month), str(dt.day), str(dt.hour), str(dt.minute), str(dt.second))\n",
    "    \n",
    "    "
   ]
  },
  {
   "cell_type": "code",
   "execution_count": 55,
   "metadata": {},
   "outputs": [
    {
     "name": "stdout",
     "output_type": "stream",
     "text": [
      "y = -5.312066096435077e-07 x1 + 5.312050687585339e-07 x2 + 0.5000241065237478\n"
     ]
    }
   ],
   "source": [
    "import sklearn.linear_model as lm\n",
    "\n",
    "regressor = lm.LinearRegression()  \n",
    "regressor.fit(train_x.reshape(-1, 2), train_y) #training the algorithm\n",
    "print(\"y =\",regressor.coef_[0],\"x1 +\",regressor.coef_[1],\"x2 +\",regressor.intercept_)\n"
   ]
  },
  {
   "cell_type": "markdown",
   "metadata": {},
   "source": [
    "**Question 2.3**<br>\n",
    "Do the same as Question 2.2 above but use support vector regressor (SVR).\n"
   ]
  },
  {
   "cell_type": "code",
   "execution_count": null,
   "metadata": {},
   "outputs": [],
   "source": []
  },
  {
   "cell_type": "markdown",
   "metadata": {},
   "source": [
    "**Question 2.4**<br>\n",
    "Do the same as Question 2.2 above but use decision tree (DT) regressor."
   ]
  },
  {
   "cell_type": "code",
   "execution_count": null,
   "metadata": {},
   "outputs": [],
   "source": []
  },
  {
   "cell_type": "markdown",
   "metadata": {},
   "source": [
    "**Question 2.5**<br>\n",
    "Make a final recommendation for the best regression model (out of the 3 methods above)\n",
    "by choosing a suitable performance metric. To ensure a fair comparison, carry out hyper-parameter tuning for all 3 methods. Then, make a final recommendation selecting only\n",
    "one model. Include both quantitative and qualitative arguments for your choice.\n"
   ]
  },
  {
   "cell_type": "code",
   "execution_count": null,
   "metadata": {},
   "outputs": [],
   "source": []
  }
 ],
 "metadata": {
  "kernelspec": {
   "display_name": "Python 3.9.7 ('base')",
   "language": "python",
   "name": "python3"
  },
  "language_info": {
   "codemirror_mode": {
    "name": "ipython",
    "version": 3
   },
   "file_extension": ".py",
   "mimetype": "text/x-python",
   "name": "python",
   "nbconvert_exporter": "python",
   "pygments_lexer": "ipython3",
   "version": "3.9.7"
  },
  "orig_nbformat": 4,
  "vscode": {
   "interpreter": {
    "hash": "815dcf97f07743ba2102514c5263b78e2abf836d9674792ae15a454e717184e9"
   }
  }
 },
 "nbformat": 4,
 "nbformat_minor": 2
}
