{
 "cells": [
  {
   "cell_type": "markdown",
   "metadata": {},
   "source": [
    "**Question 2.1**<br> \n",
    "In this part, you will build a model to forecast the hourly carpark availability in the future\n",
    "(aggregated across all carparks instead of looking at each carpark individually). Can you\n",
    "explain why you may want to forecast the carpark availability in the future? Who would\n",
    "find this information valuable? What can you do if you have a good forecasting model?\n"
   ]
  },
  {
   "cell_type": "markdown",
   "metadata": {},
   "source": [
    "We can find out the potential number of cars on the street at one time as well as the general patterns of people.\n",
    "\n",
    "This is valuable in particular for governments to plan around things such as erp pricing or road maintainence.\n",
    "\n",
    "With a good model, any emergency work to be done can be scheduled for a period where there are lesser cars on the road, or if there needs to be a system wide upgrade for carpark systems."
   ]
  },
  {
   "cell_type": "markdown",
   "metadata": {},
   "source": [
    "**Question 2.2**<br>\n",
    "Build a linear regression model to forecast the hourly carpark availability for a given\n",
    "month. Use the month of July 2022 as a training dataset and the month of August 2022\n",
    "as the test dataset. For this part, do not use additional datasets. The target is the hourly\n",
    "carpark availability percentage and you will have to decide what features you want to\n",
    "use. Generate two plots: (i) Time series plot of the actual and predicted hourly values\n",
    "(ii) Scatter plot of actual vs predicted hourly values (along with a line showing how good\n",
    "the fit is)."
   ]
  },
  {
   "cell_type": "code",
   "execution_count": 14,
   "metadata": {},
   "outputs": [],
   "source": [
    "import requests\n",
    "import json\n",
    "import pandas as pd\n",
    "from datetime import datetime\n",
    "from time import sleep\n",
    "import os\n",
    "import matplotlib.pyplot as plt\n",
    "from datetime import timedelta\n",
    "import numpy as np\n",
    "\n",
    "# Convert to datetime iso\n",
    "def toIso(dt):\n",
    "    return datetime.fromisoformat(dt)\n",
    "    \n",
    "\n",
    "def carparkApiCall(year, month, day, hour, minute, second, error_count):\n",
    "    fDir = f'./data/{year}{month}{day}T{hour.zfill(2)}{minute.zfill(2)}{second.zfill(2)}.json'\n",
    "    try:\n",
    "        open(fDir, 'r')\n",
    "    except:\n",
    "        os.makedirs(os.path.dirname('./data/'), exist_ok=True)\n",
    "        # If file doesn't exist, api call\n",
    "        site = f'https://api.data.gov.sg/v1/transport/carpark-availability?date_time={year}-{month.zfill(2)}-{day.zfill(2)}T{hour.zfill(2)}%3A{minute.zfill(2)}%3A{second.zfill(2)}'\n",
    "        # print(site)\n",
    "        response_API = requests.get(site)\n",
    "        data = response_API.text\n",
    "        data = json.loads(data)\n",
    "        try:\n",
    "            timestamp = data[\"items\"][0][\"timestamp\"]\n",
    "            data = data[\"items\"][0][\"carpark_data\"]\n",
    "        except:\n",
    "            print(data)\n",
    "            print(year,'/', month, '/', day, 'T', hour, minute, second)\n",
    "            error_count+=1\n",
    "            print(\"error count:\", error_count)\n",
    "            if error_count<=5:\n",
    "                return carparkApiCall(year, month, day, hour, minute, second, error_count)\n",
    "            else:\n",
    "                \"Api call failed more than 5 times :(\"\n",
    "        # print(timestamp)\n",
    "        with open(fDir, 'w') as fp:\n",
    "            json.dump(data, fp)\n",
    "    df = pd.read_json(fDir)\n",
    "    for heading in (\"total_lots\",\"lot_type\",\"lots_available\"):\n",
    "        df[heading] = df[\"carpark_info\"].apply(lambda x: x[0][heading])\n",
    "    # Transform data\n",
    "    df = df.drop([\"carpark_info\"], axis=1)\n",
    "    df['update_datetime'] = df['update_datetime'].apply(toIso)\n",
    "    df[\"lots_available\"] = df[\"lots_available\"].astype(int)\n",
    "    df[\"total_lots\"] = df[\"total_lots\"].astype(int)\n",
    "    return df\n",
    "\n",
    "# Calculate average availability in percentage\n",
    "def avrAvail(df):\n",
    "    df[\"availability_percentage\"] = df[\"lots_available\"]/df[\"total_lots\"]\n",
    "    return df[\"availability_percentage\"].sum()/len(df.index)"
   ]
  },
  {
   "cell_type": "code",
   "execution_count": 47,
   "metadata": {},
   "outputs": [],
   "source": [
    "#train set - july\n",
    "\n",
    "# start date 1 Jul 2022 0000\n",
    "\n",
    "year = 2022\n",
    "month = 7\n",
    "day = 1\n",
    "hour = 0\n",
    "minute = 1\n",
    "second = 0\n",
    "\n",
    "dt = datetime(year, month, day, hour, minute, second)\n",
    "dt_interval = timedelta(hours = 1)\n",
    "total_hrs = 24*30\n",
    "\n",
    "# day of week,time of day\n",
    "train_x = [[],[]]\n",
    "# avalibility percentage\n",
    "train_y = []\n",
    "\n",
    "# generate data\n",
    "for hr in range(total_hrs):\n",
    "    dt = dt + dt_interval\n",
    "    df = carparkApiCall(str(dt.year), str(dt.month), str(dt.day), str(dt.hour), str(dt.minute), str(dt.second), 0)\n",
    "    train_x[0].append(df.loc[0,'update_datetime'].weekday())\n",
    "    train_x[1].append(df.loc[0,'update_datetime'].timestamp())\n",
    "    train_y.append(avrAvail(df))\n",
    "train_x = np.array(train_x)"
   ]
  },
  {
   "cell_type": "code",
   "execution_count": 58,
   "metadata": {},
   "outputs": [
    {
     "name": "stdout",
     "output_type": "stream",
     "text": [
      "{'items': []}\n",
      "2022 / 8 / 4 T 0 1 1\n",
      "error count: 1\n",
      "{'items': []}\n",
      "2022 / 8 / 4 T 0 1 1\n",
      "error count: 2\n",
      "{'items': []}\n",
      "2022 / 8 / 4 T 0 1 1\n",
      "error count: 3\n",
      "{'items': []}\n",
      "2022 / 8 / 4 T 0 1 1\n",
      "error count: 4\n",
      "{'items': []}\n",
      "2022 / 8 / 4 T 0 1 1\n",
      "error count: 5\n",
      "{'items': []}\n",
      "2022 / 8 / 4 T 0 1 1\n",
      "error count: 6\n"
     ]
    },
    {
     "ename": "KeyError",
     "evalue": "'carpark_info'",
     "output_type": "error",
     "traceback": [
      "\u001b[1;31m---------------------------------------------------------------------------\u001b[0m",
      "\u001b[1;31mFileNotFoundError\u001b[0m                         Traceback (most recent call last)",
      "\u001b[1;32mc:\\OneDriveNus\\OneDrive - National University of Singapore\\Nus Year 4 Sem 1\\EE4211 Data Science for the Internet of Things\\Project\\EE4211_Proj\\part2.ipynb Cell 6\u001b[0m in \u001b[0;36mcarparkApiCall\u001b[1;34m(year, month, day, hour, minute, second, error_count)\u001b[0m\n\u001b[0;32m     <a href='vscode-notebook-cell:/c%3A/OneDriveNus/OneDrive%20-%20National%20University%20of%20Singapore/Nus%20Year%204%20Sem%201/EE4211%20Data%20Science%20for%20the%20Internet%20of%20Things/Project/EE4211_Proj/part2.ipynb#W5sZmlsZQ%3D%3D?line=17'>18</a>\u001b[0m \u001b[39mtry\u001b[39;00m:\n\u001b[1;32m---> <a href='vscode-notebook-cell:/c%3A/OneDriveNus/OneDrive%20-%20National%20University%20of%20Singapore/Nus%20Year%204%20Sem%201/EE4211%20Data%20Science%20for%20the%20Internet%20of%20Things/Project/EE4211_Proj/part2.ipynb#W5sZmlsZQ%3D%3D?line=18'>19</a>\u001b[0m     \u001b[39mopen\u001b[39;49m(fDir, \u001b[39m'\u001b[39;49m\u001b[39mr\u001b[39;49m\u001b[39m'\u001b[39;49m)\n\u001b[0;32m     <a href='vscode-notebook-cell:/c%3A/OneDriveNus/OneDrive%20-%20National%20University%20of%20Singapore/Nus%20Year%204%20Sem%201/EE4211%20Data%20Science%20for%20the%20Internet%20of%20Things/Project/EE4211_Proj/part2.ipynb#W5sZmlsZQ%3D%3D?line=19'>20</a>\u001b[0m \u001b[39mexcept\u001b[39;00m:\n",
      "\u001b[1;31mFileNotFoundError\u001b[0m: [Errno 2] No such file or directory: './data/202284T000101.json'",
      "\nDuring handling of the above exception, another exception occurred:\n",
      "\u001b[1;31mIndexError\u001b[0m                                Traceback (most recent call last)",
      "\u001b[1;32mc:\\OneDriveNus\\OneDrive - National University of Singapore\\Nus Year 4 Sem 1\\EE4211 Data Science for the Internet of Things\\Project\\EE4211_Proj\\part2.ipynb Cell 6\u001b[0m in \u001b[0;36mcarparkApiCall\u001b[1;34m(year, month, day, hour, minute, second, error_count)\u001b[0m\n\u001b[0;32m     <a href='vscode-notebook-cell:/c%3A/OneDriveNus/OneDrive%20-%20National%20University%20of%20Singapore/Nus%20Year%204%20Sem%201/EE4211%20Data%20Science%20for%20the%20Internet%20of%20Things/Project/EE4211_Proj/part2.ipynb#W5sZmlsZQ%3D%3D?line=27'>28</a>\u001b[0m \u001b[39mtry\u001b[39;00m:\n\u001b[1;32m---> <a href='vscode-notebook-cell:/c%3A/OneDriveNus/OneDrive%20-%20National%20University%20of%20Singapore/Nus%20Year%204%20Sem%201/EE4211%20Data%20Science%20for%20the%20Internet%20of%20Things/Project/EE4211_Proj/part2.ipynb#W5sZmlsZQ%3D%3D?line=28'>29</a>\u001b[0m     timestamp \u001b[39m=\u001b[39m data[\u001b[39m\"\u001b[39;49m\u001b[39mitems\u001b[39;49m\u001b[39m\"\u001b[39;49m][\u001b[39m0\u001b[39;49m][\u001b[39m\"\u001b[39m\u001b[39mtimestamp\u001b[39m\u001b[39m\"\u001b[39m]\n\u001b[0;32m     <a href='vscode-notebook-cell:/c%3A/OneDriveNus/OneDrive%20-%20National%20University%20of%20Singapore/Nus%20Year%204%20Sem%201/EE4211%20Data%20Science%20for%20the%20Internet%20of%20Things/Project/EE4211_Proj/part2.ipynb#W5sZmlsZQ%3D%3D?line=29'>30</a>\u001b[0m     data \u001b[39m=\u001b[39m data[\u001b[39m\"\u001b[39m\u001b[39mitems\u001b[39m\u001b[39m\"\u001b[39m][\u001b[39m0\u001b[39m][\u001b[39m\"\u001b[39m\u001b[39mcarpark_data\u001b[39m\u001b[39m\"\u001b[39m]\n",
      "\u001b[1;31mIndexError\u001b[0m: list index out of range",
      "\nDuring handling of the above exception, another exception occurred:\n",
      "\u001b[1;31mFileNotFoundError\u001b[0m                         Traceback (most recent call last)",
      "\u001b[1;32mc:\\OneDriveNus\\OneDrive - National University of Singapore\\Nus Year 4 Sem 1\\EE4211 Data Science for the Internet of Things\\Project\\EE4211_Proj\\part2.ipynb Cell 6\u001b[0m in \u001b[0;36mcarparkApiCall\u001b[1;34m(year, month, day, hour, minute, second, error_count)\u001b[0m\n\u001b[0;32m     <a href='vscode-notebook-cell:/c%3A/OneDriveNus/OneDrive%20-%20National%20University%20of%20Singapore/Nus%20Year%204%20Sem%201/EE4211%20Data%20Science%20for%20the%20Internet%20of%20Things/Project/EE4211_Proj/part2.ipynb#W5sZmlsZQ%3D%3D?line=17'>18</a>\u001b[0m \u001b[39mtry\u001b[39;00m:\n\u001b[1;32m---> <a href='vscode-notebook-cell:/c%3A/OneDriveNus/OneDrive%20-%20National%20University%20of%20Singapore/Nus%20Year%204%20Sem%201/EE4211%20Data%20Science%20for%20the%20Internet%20of%20Things/Project/EE4211_Proj/part2.ipynb#W5sZmlsZQ%3D%3D?line=18'>19</a>\u001b[0m     \u001b[39mopen\u001b[39;49m(fDir, \u001b[39m'\u001b[39;49m\u001b[39mr\u001b[39;49m\u001b[39m'\u001b[39;49m)\n\u001b[0;32m     <a href='vscode-notebook-cell:/c%3A/OneDriveNus/OneDrive%20-%20National%20University%20of%20Singapore/Nus%20Year%204%20Sem%201/EE4211%20Data%20Science%20for%20the%20Internet%20of%20Things/Project/EE4211_Proj/part2.ipynb#W5sZmlsZQ%3D%3D?line=19'>20</a>\u001b[0m \u001b[39mexcept\u001b[39;00m:\n",
      "\u001b[1;31mFileNotFoundError\u001b[0m: [Errno 2] No such file or directory: './data/202284T000101.json'",
      "\nDuring handling of the above exception, another exception occurred:\n",
      "\u001b[1;31mIndexError\u001b[0m                                Traceback (most recent call last)",
      "\u001b[1;32mc:\\OneDriveNus\\OneDrive - National University of Singapore\\Nus Year 4 Sem 1\\EE4211 Data Science for the Internet of Things\\Project\\EE4211_Proj\\part2.ipynb Cell 6\u001b[0m in \u001b[0;36mcarparkApiCall\u001b[1;34m(year, month, day, hour, minute, second, error_count)\u001b[0m\n\u001b[0;32m     <a href='vscode-notebook-cell:/c%3A/OneDriveNus/OneDrive%20-%20National%20University%20of%20Singapore/Nus%20Year%204%20Sem%201/EE4211%20Data%20Science%20for%20the%20Internet%20of%20Things/Project/EE4211_Proj/part2.ipynb#W5sZmlsZQ%3D%3D?line=27'>28</a>\u001b[0m \u001b[39mtry\u001b[39;00m:\n\u001b[1;32m---> <a href='vscode-notebook-cell:/c%3A/OneDriveNus/OneDrive%20-%20National%20University%20of%20Singapore/Nus%20Year%204%20Sem%201/EE4211%20Data%20Science%20for%20the%20Internet%20of%20Things/Project/EE4211_Proj/part2.ipynb#W5sZmlsZQ%3D%3D?line=28'>29</a>\u001b[0m     timestamp \u001b[39m=\u001b[39m data[\u001b[39m\"\u001b[39;49m\u001b[39mitems\u001b[39;49m\u001b[39m\"\u001b[39;49m][\u001b[39m0\u001b[39;49m][\u001b[39m\"\u001b[39m\u001b[39mtimestamp\u001b[39m\u001b[39m\"\u001b[39m]\n\u001b[0;32m     <a href='vscode-notebook-cell:/c%3A/OneDriveNus/OneDrive%20-%20National%20University%20of%20Singapore/Nus%20Year%204%20Sem%201/EE4211%20Data%20Science%20for%20the%20Internet%20of%20Things/Project/EE4211_Proj/part2.ipynb#W5sZmlsZQ%3D%3D?line=29'>30</a>\u001b[0m     data \u001b[39m=\u001b[39m data[\u001b[39m\"\u001b[39m\u001b[39mitems\u001b[39m\u001b[39m\"\u001b[39m][\u001b[39m0\u001b[39m][\u001b[39m\"\u001b[39m\u001b[39mcarpark_data\u001b[39m\u001b[39m\"\u001b[39m]\n",
      "\u001b[1;31mIndexError\u001b[0m: list index out of range",
      "\nDuring handling of the above exception, another exception occurred:\n",
      "\u001b[1;31mFileNotFoundError\u001b[0m                         Traceback (most recent call last)",
      "\u001b[1;32mc:\\OneDriveNus\\OneDrive - National University of Singapore\\Nus Year 4 Sem 1\\EE4211 Data Science for the Internet of Things\\Project\\EE4211_Proj\\part2.ipynb Cell 6\u001b[0m in \u001b[0;36mcarparkApiCall\u001b[1;34m(year, month, day, hour, minute, second, error_count)\u001b[0m\n\u001b[0;32m     <a href='vscode-notebook-cell:/c%3A/OneDriveNus/OneDrive%20-%20National%20University%20of%20Singapore/Nus%20Year%204%20Sem%201/EE4211%20Data%20Science%20for%20the%20Internet%20of%20Things/Project/EE4211_Proj/part2.ipynb#W5sZmlsZQ%3D%3D?line=17'>18</a>\u001b[0m \u001b[39mtry\u001b[39;00m:\n\u001b[1;32m---> <a href='vscode-notebook-cell:/c%3A/OneDriveNus/OneDrive%20-%20National%20University%20of%20Singapore/Nus%20Year%204%20Sem%201/EE4211%20Data%20Science%20for%20the%20Internet%20of%20Things/Project/EE4211_Proj/part2.ipynb#W5sZmlsZQ%3D%3D?line=18'>19</a>\u001b[0m     \u001b[39mopen\u001b[39;49m(fDir, \u001b[39m'\u001b[39;49m\u001b[39mr\u001b[39;49m\u001b[39m'\u001b[39;49m)\n\u001b[0;32m     <a href='vscode-notebook-cell:/c%3A/OneDriveNus/OneDrive%20-%20National%20University%20of%20Singapore/Nus%20Year%204%20Sem%201/EE4211%20Data%20Science%20for%20the%20Internet%20of%20Things/Project/EE4211_Proj/part2.ipynb#W5sZmlsZQ%3D%3D?line=19'>20</a>\u001b[0m \u001b[39mexcept\u001b[39;00m:\n",
      "\u001b[1;31mFileNotFoundError\u001b[0m: [Errno 2] No such file or directory: './data/202284T000101.json'",
      "\nDuring handling of the above exception, another exception occurred:\n",
      "\u001b[1;31mIndexError\u001b[0m                                Traceback (most recent call last)",
      "\u001b[1;32mc:\\OneDriveNus\\OneDrive - National University of Singapore\\Nus Year 4 Sem 1\\EE4211 Data Science for the Internet of Things\\Project\\EE4211_Proj\\part2.ipynb Cell 6\u001b[0m in \u001b[0;36mcarparkApiCall\u001b[1;34m(year, month, day, hour, minute, second, error_count)\u001b[0m\n\u001b[0;32m     <a href='vscode-notebook-cell:/c%3A/OneDriveNus/OneDrive%20-%20National%20University%20of%20Singapore/Nus%20Year%204%20Sem%201/EE4211%20Data%20Science%20for%20the%20Internet%20of%20Things/Project/EE4211_Proj/part2.ipynb#W5sZmlsZQ%3D%3D?line=27'>28</a>\u001b[0m \u001b[39mtry\u001b[39;00m:\n\u001b[1;32m---> <a href='vscode-notebook-cell:/c%3A/OneDriveNus/OneDrive%20-%20National%20University%20of%20Singapore/Nus%20Year%204%20Sem%201/EE4211%20Data%20Science%20for%20the%20Internet%20of%20Things/Project/EE4211_Proj/part2.ipynb#W5sZmlsZQ%3D%3D?line=28'>29</a>\u001b[0m     timestamp \u001b[39m=\u001b[39m data[\u001b[39m\"\u001b[39;49m\u001b[39mitems\u001b[39;49m\u001b[39m\"\u001b[39;49m][\u001b[39m0\u001b[39;49m][\u001b[39m\"\u001b[39m\u001b[39mtimestamp\u001b[39m\u001b[39m\"\u001b[39m]\n\u001b[0;32m     <a href='vscode-notebook-cell:/c%3A/OneDriveNus/OneDrive%20-%20National%20University%20of%20Singapore/Nus%20Year%204%20Sem%201/EE4211%20Data%20Science%20for%20the%20Internet%20of%20Things/Project/EE4211_Proj/part2.ipynb#W5sZmlsZQ%3D%3D?line=29'>30</a>\u001b[0m     data \u001b[39m=\u001b[39m data[\u001b[39m\"\u001b[39m\u001b[39mitems\u001b[39m\u001b[39m\"\u001b[39m][\u001b[39m0\u001b[39m][\u001b[39m\"\u001b[39m\u001b[39mcarpark_data\u001b[39m\u001b[39m\"\u001b[39m]\n",
      "\u001b[1;31mIndexError\u001b[0m: list index out of range",
      "\nDuring handling of the above exception, another exception occurred:\n",
      "\u001b[1;31mFileNotFoundError\u001b[0m                         Traceback (most recent call last)",
      "\u001b[1;32mc:\\OneDriveNus\\OneDrive - National University of Singapore\\Nus Year 4 Sem 1\\EE4211 Data Science for the Internet of Things\\Project\\EE4211_Proj\\part2.ipynb Cell 6\u001b[0m in \u001b[0;36mcarparkApiCall\u001b[1;34m(year, month, day, hour, minute, second, error_count)\u001b[0m\n\u001b[0;32m     <a href='vscode-notebook-cell:/c%3A/OneDriveNus/OneDrive%20-%20National%20University%20of%20Singapore/Nus%20Year%204%20Sem%201/EE4211%20Data%20Science%20for%20the%20Internet%20of%20Things/Project/EE4211_Proj/part2.ipynb#W5sZmlsZQ%3D%3D?line=17'>18</a>\u001b[0m \u001b[39mtry\u001b[39;00m:\n\u001b[1;32m---> <a href='vscode-notebook-cell:/c%3A/OneDriveNus/OneDrive%20-%20National%20University%20of%20Singapore/Nus%20Year%204%20Sem%201/EE4211%20Data%20Science%20for%20the%20Internet%20of%20Things/Project/EE4211_Proj/part2.ipynb#W5sZmlsZQ%3D%3D?line=18'>19</a>\u001b[0m     \u001b[39mopen\u001b[39;49m(fDir, \u001b[39m'\u001b[39;49m\u001b[39mr\u001b[39;49m\u001b[39m'\u001b[39;49m)\n\u001b[0;32m     <a href='vscode-notebook-cell:/c%3A/OneDriveNus/OneDrive%20-%20National%20University%20of%20Singapore/Nus%20Year%204%20Sem%201/EE4211%20Data%20Science%20for%20the%20Internet%20of%20Things/Project/EE4211_Proj/part2.ipynb#W5sZmlsZQ%3D%3D?line=19'>20</a>\u001b[0m \u001b[39mexcept\u001b[39;00m:\n",
      "\u001b[1;31mFileNotFoundError\u001b[0m: [Errno 2] No such file or directory: './data/202284T000101.json'",
      "\nDuring handling of the above exception, another exception occurred:\n",
      "\u001b[1;31mIndexError\u001b[0m                                Traceback (most recent call last)",
      "\u001b[1;32mc:\\OneDriveNus\\OneDrive - National University of Singapore\\Nus Year 4 Sem 1\\EE4211 Data Science for the Internet of Things\\Project\\EE4211_Proj\\part2.ipynb Cell 6\u001b[0m in \u001b[0;36mcarparkApiCall\u001b[1;34m(year, month, day, hour, minute, second, error_count)\u001b[0m\n\u001b[0;32m     <a href='vscode-notebook-cell:/c%3A/OneDriveNus/OneDrive%20-%20National%20University%20of%20Singapore/Nus%20Year%204%20Sem%201/EE4211%20Data%20Science%20for%20the%20Internet%20of%20Things/Project/EE4211_Proj/part2.ipynb#W5sZmlsZQ%3D%3D?line=27'>28</a>\u001b[0m \u001b[39mtry\u001b[39;00m:\n\u001b[1;32m---> <a href='vscode-notebook-cell:/c%3A/OneDriveNus/OneDrive%20-%20National%20University%20of%20Singapore/Nus%20Year%204%20Sem%201/EE4211%20Data%20Science%20for%20the%20Internet%20of%20Things/Project/EE4211_Proj/part2.ipynb#W5sZmlsZQ%3D%3D?line=28'>29</a>\u001b[0m     timestamp \u001b[39m=\u001b[39m data[\u001b[39m\"\u001b[39;49m\u001b[39mitems\u001b[39;49m\u001b[39m\"\u001b[39;49m][\u001b[39m0\u001b[39;49m][\u001b[39m\"\u001b[39m\u001b[39mtimestamp\u001b[39m\u001b[39m\"\u001b[39m]\n\u001b[0;32m     <a href='vscode-notebook-cell:/c%3A/OneDriveNus/OneDrive%20-%20National%20University%20of%20Singapore/Nus%20Year%204%20Sem%201/EE4211%20Data%20Science%20for%20the%20Internet%20of%20Things/Project/EE4211_Proj/part2.ipynb#W5sZmlsZQ%3D%3D?line=29'>30</a>\u001b[0m     data \u001b[39m=\u001b[39m data[\u001b[39m\"\u001b[39m\u001b[39mitems\u001b[39m\u001b[39m\"\u001b[39m][\u001b[39m0\u001b[39m][\u001b[39m\"\u001b[39m\u001b[39mcarpark_data\u001b[39m\u001b[39m\"\u001b[39m]\n",
      "\u001b[1;31mIndexError\u001b[0m: list index out of range",
      "\nDuring handling of the above exception, another exception occurred:\n",
      "\u001b[1;31mFileNotFoundError\u001b[0m                         Traceback (most recent call last)",
      "\u001b[1;32mc:\\OneDriveNus\\OneDrive - National University of Singapore\\Nus Year 4 Sem 1\\EE4211 Data Science for the Internet of Things\\Project\\EE4211_Proj\\part2.ipynb Cell 6\u001b[0m in \u001b[0;36mcarparkApiCall\u001b[1;34m(year, month, day, hour, minute, second, error_count)\u001b[0m\n\u001b[0;32m     <a href='vscode-notebook-cell:/c%3A/OneDriveNus/OneDrive%20-%20National%20University%20of%20Singapore/Nus%20Year%204%20Sem%201/EE4211%20Data%20Science%20for%20the%20Internet%20of%20Things/Project/EE4211_Proj/part2.ipynb#W5sZmlsZQ%3D%3D?line=17'>18</a>\u001b[0m \u001b[39mtry\u001b[39;00m:\n\u001b[1;32m---> <a href='vscode-notebook-cell:/c%3A/OneDriveNus/OneDrive%20-%20National%20University%20of%20Singapore/Nus%20Year%204%20Sem%201/EE4211%20Data%20Science%20for%20the%20Internet%20of%20Things/Project/EE4211_Proj/part2.ipynb#W5sZmlsZQ%3D%3D?line=18'>19</a>\u001b[0m     \u001b[39mopen\u001b[39;49m(fDir, \u001b[39m'\u001b[39;49m\u001b[39mr\u001b[39;49m\u001b[39m'\u001b[39;49m)\n\u001b[0;32m     <a href='vscode-notebook-cell:/c%3A/OneDriveNus/OneDrive%20-%20National%20University%20of%20Singapore/Nus%20Year%204%20Sem%201/EE4211%20Data%20Science%20for%20the%20Internet%20of%20Things/Project/EE4211_Proj/part2.ipynb#W5sZmlsZQ%3D%3D?line=19'>20</a>\u001b[0m \u001b[39mexcept\u001b[39;00m:\n",
      "\u001b[1;31mFileNotFoundError\u001b[0m: [Errno 2] No such file or directory: './data/202284T000101.json'",
      "\nDuring handling of the above exception, another exception occurred:\n",
      "\u001b[1;31mIndexError\u001b[0m                                Traceback (most recent call last)",
      "\u001b[1;32mc:\\OneDriveNus\\OneDrive - National University of Singapore\\Nus Year 4 Sem 1\\EE4211 Data Science for the Internet of Things\\Project\\EE4211_Proj\\part2.ipynb Cell 6\u001b[0m in \u001b[0;36mcarparkApiCall\u001b[1;34m(year, month, day, hour, minute, second, error_count)\u001b[0m\n\u001b[0;32m     <a href='vscode-notebook-cell:/c%3A/OneDriveNus/OneDrive%20-%20National%20University%20of%20Singapore/Nus%20Year%204%20Sem%201/EE4211%20Data%20Science%20for%20the%20Internet%20of%20Things/Project/EE4211_Proj/part2.ipynb#W5sZmlsZQ%3D%3D?line=27'>28</a>\u001b[0m \u001b[39mtry\u001b[39;00m:\n\u001b[1;32m---> <a href='vscode-notebook-cell:/c%3A/OneDriveNus/OneDrive%20-%20National%20University%20of%20Singapore/Nus%20Year%204%20Sem%201/EE4211%20Data%20Science%20for%20the%20Internet%20of%20Things/Project/EE4211_Proj/part2.ipynb#W5sZmlsZQ%3D%3D?line=28'>29</a>\u001b[0m     timestamp \u001b[39m=\u001b[39m data[\u001b[39m\"\u001b[39;49m\u001b[39mitems\u001b[39;49m\u001b[39m\"\u001b[39;49m][\u001b[39m0\u001b[39;49m][\u001b[39m\"\u001b[39m\u001b[39mtimestamp\u001b[39m\u001b[39m\"\u001b[39m]\n\u001b[0;32m     <a href='vscode-notebook-cell:/c%3A/OneDriveNus/OneDrive%20-%20National%20University%20of%20Singapore/Nus%20Year%204%20Sem%201/EE4211%20Data%20Science%20for%20the%20Internet%20of%20Things/Project/EE4211_Proj/part2.ipynb#W5sZmlsZQ%3D%3D?line=29'>30</a>\u001b[0m     data \u001b[39m=\u001b[39m data[\u001b[39m\"\u001b[39m\u001b[39mitems\u001b[39m\u001b[39m\"\u001b[39m][\u001b[39m0\u001b[39m][\u001b[39m\"\u001b[39m\u001b[39mcarpark_data\u001b[39m\u001b[39m\"\u001b[39m]\n",
      "\u001b[1;31mIndexError\u001b[0m: list index out of range",
      "\nDuring handling of the above exception, another exception occurred:\n",
      "\u001b[1;31mKeyError\u001b[0m                                  Traceback (most recent call last)",
      "File \u001b[1;32mc:\\Users\\yujin\\Anaconda3\\lib\\site-packages\\pandas\\core\\indexes\\base.py:3621\u001b[0m, in \u001b[0;36mIndex.get_loc\u001b[1;34m(self, key, method, tolerance)\u001b[0m\n\u001b[0;32m   3620\u001b[0m \u001b[39mtry\u001b[39;00m:\n\u001b[1;32m-> 3621\u001b[0m     \u001b[39mreturn\u001b[39;00m \u001b[39mself\u001b[39;49m\u001b[39m.\u001b[39;49m_engine\u001b[39m.\u001b[39;49mget_loc(casted_key)\n\u001b[0;32m   3622\u001b[0m \u001b[39mexcept\u001b[39;00m \u001b[39mKeyError\u001b[39;00m \u001b[39mas\u001b[39;00m err:\n",
      "File \u001b[1;32mc:\\Users\\yujin\\Anaconda3\\lib\\site-packages\\pandas\\_libs\\index.pyx:136\u001b[0m, in \u001b[0;36mpandas._libs.index.IndexEngine.get_loc\u001b[1;34m()\u001b[0m\n",
      "File \u001b[1;32mc:\\Users\\yujin\\Anaconda3\\lib\\site-packages\\pandas\\_libs\\index.pyx:163\u001b[0m, in \u001b[0;36mpandas._libs.index.IndexEngine.get_loc\u001b[1;34m()\u001b[0m\n",
      "File \u001b[1;32mpandas\\_libs\\hashtable_class_helper.pxi:5198\u001b[0m, in \u001b[0;36mpandas._libs.hashtable.PyObjectHashTable.get_item\u001b[1;34m()\u001b[0m\n",
      "File \u001b[1;32mpandas\\_libs\\hashtable_class_helper.pxi:5206\u001b[0m, in \u001b[0;36mpandas._libs.hashtable.PyObjectHashTable.get_item\u001b[1;34m()\u001b[0m\n",
      "\u001b[1;31mKeyError\u001b[0m: 'carpark_info'",
      "\nThe above exception was the direct cause of the following exception:\n",
      "\u001b[1;31mKeyError\u001b[0m                                  Traceback (most recent call last)",
      "\u001b[1;32mc:\\OneDriveNus\\OneDrive - National University of Singapore\\Nus Year 4 Sem 1\\EE4211 Data Science for the Internet of Things\\Project\\EE4211_Proj\\part2.ipynb Cell 6\u001b[0m in \u001b[0;36m<cell line: 22>\u001b[1;34m()\u001b[0m\n\u001b[0;32m     <a href='vscode-notebook-cell:/c%3A/OneDriveNus/OneDrive%20-%20National%20University%20of%20Singapore/Nus%20Year%204%20Sem%201/EE4211%20Data%20Science%20for%20the%20Internet%20of%20Things/Project/EE4211_Proj/part2.ipynb#W5sZmlsZQ%3D%3D?line=21'>22</a>\u001b[0m \u001b[39mfor\u001b[39;00m hr \u001b[39min\u001b[39;00m \u001b[39mrange\u001b[39m(total_hrs):\n\u001b[0;32m     <a href='vscode-notebook-cell:/c%3A/OneDriveNus/OneDrive%20-%20National%20University%20of%20Singapore/Nus%20Year%204%20Sem%201/EE4211%20Data%20Science%20for%20the%20Internet%20of%20Things/Project/EE4211_Proj/part2.ipynb#W5sZmlsZQ%3D%3D?line=22'>23</a>\u001b[0m     dt \u001b[39m=\u001b[39m dt \u001b[39m+\u001b[39m dt_interval\n\u001b[1;32m---> <a href='vscode-notebook-cell:/c%3A/OneDriveNus/OneDrive%20-%20National%20University%20of%20Singapore/Nus%20Year%204%20Sem%201/EE4211%20Data%20Science%20for%20the%20Internet%20of%20Things/Project/EE4211_Proj/part2.ipynb#W5sZmlsZQ%3D%3D?line=23'>24</a>\u001b[0m     df \u001b[39m=\u001b[39m carparkApiCall(\u001b[39mstr\u001b[39;49m(dt\u001b[39m.\u001b[39;49myear), \u001b[39mstr\u001b[39;49m(dt\u001b[39m.\u001b[39;49mmonth), \u001b[39mstr\u001b[39;49m(dt\u001b[39m.\u001b[39;49mday), \u001b[39mstr\u001b[39;49m(dt\u001b[39m.\u001b[39;49mhour), \u001b[39mstr\u001b[39;49m(dt\u001b[39m.\u001b[39;49mminute), \u001b[39mstr\u001b[39;49m(dt\u001b[39m.\u001b[39;49msecond), \u001b[39m0\u001b[39;49m)\n\u001b[0;32m     <a href='vscode-notebook-cell:/c%3A/OneDriveNus/OneDrive%20-%20National%20University%20of%20Singapore/Nus%20Year%204%20Sem%201/EE4211%20Data%20Science%20for%20the%20Internet%20of%20Things/Project/EE4211_Proj/part2.ipynb#W5sZmlsZQ%3D%3D?line=24'>25</a>\u001b[0m     test_y\u001b[39m.\u001b[39mappend(avrAvail(df))\n\u001b[0;32m     <a href='vscode-notebook-cell:/c%3A/OneDriveNus/OneDrive%20-%20National%20University%20of%20Singapore/Nus%20Year%204%20Sem%201/EE4211%20Data%20Science%20for%20the%20Internet%20of%20Things/Project/EE4211_Proj/part2.ipynb#W5sZmlsZQ%3D%3D?line=25'>26</a>\u001b[0m     test_x[\u001b[39m0\u001b[39m]\u001b[39m.\u001b[39mappend(df\u001b[39m.\u001b[39mloc[\u001b[39m0\u001b[39m,\u001b[39m'\u001b[39m\u001b[39mupdate_datetime\u001b[39m\u001b[39m'\u001b[39m]\u001b[39m.\u001b[39mweekday())\n",
      "\u001b[1;32mc:\\OneDriveNus\\OneDrive - National University of Singapore\\Nus Year 4 Sem 1\\EE4211 Data Science for the Internet of Things\\Project\\EE4211_Proj\\part2.ipynb Cell 6\u001b[0m in \u001b[0;36mcarparkApiCall\u001b[1;34m(year, month, day, hour, minute, second, error_count)\u001b[0m\n\u001b[0;32m     <a href='vscode-notebook-cell:/c%3A/OneDriveNus/OneDrive%20-%20National%20University%20of%20Singapore/Nus%20Year%204%20Sem%201/EE4211%20Data%20Science%20for%20the%20Internet%20of%20Things/Project/EE4211_Proj/part2.ipynb#W5sZmlsZQ%3D%3D?line=34'>35</a>\u001b[0m \u001b[39mprint\u001b[39m(\u001b[39m\"\u001b[39m\u001b[39merror count:\u001b[39m\u001b[39m\"\u001b[39m, error_count)\n\u001b[0;32m     <a href='vscode-notebook-cell:/c%3A/OneDriveNus/OneDrive%20-%20National%20University%20of%20Singapore/Nus%20Year%204%20Sem%201/EE4211%20Data%20Science%20for%20the%20Internet%20of%20Things/Project/EE4211_Proj/part2.ipynb#W5sZmlsZQ%3D%3D?line=35'>36</a>\u001b[0m \u001b[39mif\u001b[39;00m error_count\u001b[39m<\u001b[39m\u001b[39m=\u001b[39m\u001b[39m5\u001b[39m:\n\u001b[1;32m---> <a href='vscode-notebook-cell:/c%3A/OneDriveNus/OneDrive%20-%20National%20University%20of%20Singapore/Nus%20Year%204%20Sem%201/EE4211%20Data%20Science%20for%20the%20Internet%20of%20Things/Project/EE4211_Proj/part2.ipynb#W5sZmlsZQ%3D%3D?line=36'>37</a>\u001b[0m     \u001b[39mreturn\u001b[39;00m carparkApiCall(year, month, day, hour, minute, second, error_count)\n\u001b[0;32m     <a href='vscode-notebook-cell:/c%3A/OneDriveNus/OneDrive%20-%20National%20University%20of%20Singapore/Nus%20Year%204%20Sem%201/EE4211%20Data%20Science%20for%20the%20Internet%20of%20Things/Project/EE4211_Proj/part2.ipynb#W5sZmlsZQ%3D%3D?line=37'>38</a>\u001b[0m \u001b[39melse\u001b[39;00m:\n\u001b[0;32m     <a href='vscode-notebook-cell:/c%3A/OneDriveNus/OneDrive%20-%20National%20University%20of%20Singapore/Nus%20Year%204%20Sem%201/EE4211%20Data%20Science%20for%20the%20Internet%20of%20Things/Project/EE4211_Proj/part2.ipynb#W5sZmlsZQ%3D%3D?line=38'>39</a>\u001b[0m     \u001b[39m\"\u001b[39m\u001b[39mApi call failed more than 5 times :(\u001b[39m\u001b[39m\"\u001b[39m\n",
      "\u001b[1;32mc:\\OneDriveNus\\OneDrive - National University of Singapore\\Nus Year 4 Sem 1\\EE4211 Data Science for the Internet of Things\\Project\\EE4211_Proj\\part2.ipynb Cell 6\u001b[0m in \u001b[0;36mcarparkApiCall\u001b[1;34m(year, month, day, hour, minute, second, error_count)\u001b[0m\n\u001b[0;32m     <a href='vscode-notebook-cell:/c%3A/OneDriveNus/OneDrive%20-%20National%20University%20of%20Singapore/Nus%20Year%204%20Sem%201/EE4211%20Data%20Science%20for%20the%20Internet%20of%20Things/Project/EE4211_Proj/part2.ipynb#W5sZmlsZQ%3D%3D?line=34'>35</a>\u001b[0m \u001b[39mprint\u001b[39m(\u001b[39m\"\u001b[39m\u001b[39merror count:\u001b[39m\u001b[39m\"\u001b[39m, error_count)\n\u001b[0;32m     <a href='vscode-notebook-cell:/c%3A/OneDriveNus/OneDrive%20-%20National%20University%20of%20Singapore/Nus%20Year%204%20Sem%201/EE4211%20Data%20Science%20for%20the%20Internet%20of%20Things/Project/EE4211_Proj/part2.ipynb#W5sZmlsZQ%3D%3D?line=35'>36</a>\u001b[0m \u001b[39mif\u001b[39;00m error_count\u001b[39m<\u001b[39m\u001b[39m=\u001b[39m\u001b[39m5\u001b[39m:\n\u001b[1;32m---> <a href='vscode-notebook-cell:/c%3A/OneDriveNus/OneDrive%20-%20National%20University%20of%20Singapore/Nus%20Year%204%20Sem%201/EE4211%20Data%20Science%20for%20the%20Internet%20of%20Things/Project/EE4211_Proj/part2.ipynb#W5sZmlsZQ%3D%3D?line=36'>37</a>\u001b[0m     \u001b[39mreturn\u001b[39;00m carparkApiCall(year, month, day, hour, minute, second, error_count)\n\u001b[0;32m     <a href='vscode-notebook-cell:/c%3A/OneDriveNus/OneDrive%20-%20National%20University%20of%20Singapore/Nus%20Year%204%20Sem%201/EE4211%20Data%20Science%20for%20the%20Internet%20of%20Things/Project/EE4211_Proj/part2.ipynb#W5sZmlsZQ%3D%3D?line=37'>38</a>\u001b[0m \u001b[39melse\u001b[39;00m:\n\u001b[0;32m     <a href='vscode-notebook-cell:/c%3A/OneDriveNus/OneDrive%20-%20National%20University%20of%20Singapore/Nus%20Year%204%20Sem%201/EE4211%20Data%20Science%20for%20the%20Internet%20of%20Things/Project/EE4211_Proj/part2.ipynb#W5sZmlsZQ%3D%3D?line=38'>39</a>\u001b[0m     \u001b[39m\"\u001b[39m\u001b[39mApi call failed more than 5 times :(\u001b[39m\u001b[39m\"\u001b[39m\n",
      "    \u001b[1;31m[... skipping similar frames: carparkApiCall at line 37 (2 times)]\u001b[0m\n",
      "\u001b[1;32mc:\\OneDriveNus\\OneDrive - National University of Singapore\\Nus Year 4 Sem 1\\EE4211 Data Science for the Internet of Things\\Project\\EE4211_Proj\\part2.ipynb Cell 6\u001b[0m in \u001b[0;36mcarparkApiCall\u001b[1;34m(year, month, day, hour, minute, second, error_count)\u001b[0m\n\u001b[0;32m     <a href='vscode-notebook-cell:/c%3A/OneDriveNus/OneDrive%20-%20National%20University%20of%20Singapore/Nus%20Year%204%20Sem%201/EE4211%20Data%20Science%20for%20the%20Internet%20of%20Things/Project/EE4211_Proj/part2.ipynb#W5sZmlsZQ%3D%3D?line=34'>35</a>\u001b[0m \u001b[39mprint\u001b[39m(\u001b[39m\"\u001b[39m\u001b[39merror count:\u001b[39m\u001b[39m\"\u001b[39m, error_count)\n\u001b[0;32m     <a href='vscode-notebook-cell:/c%3A/OneDriveNus/OneDrive%20-%20National%20University%20of%20Singapore/Nus%20Year%204%20Sem%201/EE4211%20Data%20Science%20for%20the%20Internet%20of%20Things/Project/EE4211_Proj/part2.ipynb#W5sZmlsZQ%3D%3D?line=35'>36</a>\u001b[0m \u001b[39mif\u001b[39;00m error_count\u001b[39m<\u001b[39m\u001b[39m=\u001b[39m\u001b[39m5\u001b[39m:\n\u001b[1;32m---> <a href='vscode-notebook-cell:/c%3A/OneDriveNus/OneDrive%20-%20National%20University%20of%20Singapore/Nus%20Year%204%20Sem%201/EE4211%20Data%20Science%20for%20the%20Internet%20of%20Things/Project/EE4211_Proj/part2.ipynb#W5sZmlsZQ%3D%3D?line=36'>37</a>\u001b[0m     \u001b[39mreturn\u001b[39;00m carparkApiCall(year, month, day, hour, minute, second, error_count)\n\u001b[0;32m     <a href='vscode-notebook-cell:/c%3A/OneDriveNus/OneDrive%20-%20National%20University%20of%20Singapore/Nus%20Year%204%20Sem%201/EE4211%20Data%20Science%20for%20the%20Internet%20of%20Things/Project/EE4211_Proj/part2.ipynb#W5sZmlsZQ%3D%3D?line=37'>38</a>\u001b[0m \u001b[39melse\u001b[39;00m:\n\u001b[0;32m     <a href='vscode-notebook-cell:/c%3A/OneDriveNus/OneDrive%20-%20National%20University%20of%20Singapore/Nus%20Year%204%20Sem%201/EE4211%20Data%20Science%20for%20the%20Internet%20of%20Things/Project/EE4211_Proj/part2.ipynb#W5sZmlsZQ%3D%3D?line=38'>39</a>\u001b[0m     \u001b[39m\"\u001b[39m\u001b[39mApi call failed more than 5 times :(\u001b[39m\u001b[39m\"\u001b[39m\n",
      "\u001b[1;32mc:\\OneDriveNus\\OneDrive - National University of Singapore\\Nus Year 4 Sem 1\\EE4211 Data Science for the Internet of Things\\Project\\EE4211_Proj\\part2.ipynb Cell 6\u001b[0m in \u001b[0;36mcarparkApiCall\u001b[1;34m(year, month, day, hour, minute, second, error_count)\u001b[0m\n\u001b[0;32m     <a href='vscode-notebook-cell:/c%3A/OneDriveNus/OneDrive%20-%20National%20University%20of%20Singapore/Nus%20Year%204%20Sem%201/EE4211%20Data%20Science%20for%20the%20Internet%20of%20Things/Project/EE4211_Proj/part2.ipynb#W5sZmlsZQ%3D%3D?line=42'>43</a>\u001b[0m df \u001b[39m=\u001b[39m pd\u001b[39m.\u001b[39mread_json(fDir)\n\u001b[0;32m     <a href='vscode-notebook-cell:/c%3A/OneDriveNus/OneDrive%20-%20National%20University%20of%20Singapore/Nus%20Year%204%20Sem%201/EE4211%20Data%20Science%20for%20the%20Internet%20of%20Things/Project/EE4211_Proj/part2.ipynb#W5sZmlsZQ%3D%3D?line=43'>44</a>\u001b[0m \u001b[39mfor\u001b[39;00m heading \u001b[39min\u001b[39;00m (\u001b[39m\"\u001b[39m\u001b[39mtotal_lots\u001b[39m\u001b[39m\"\u001b[39m,\u001b[39m\"\u001b[39m\u001b[39mlot_type\u001b[39m\u001b[39m\"\u001b[39m,\u001b[39m\"\u001b[39m\u001b[39mlots_available\u001b[39m\u001b[39m\"\u001b[39m):\n\u001b[1;32m---> <a href='vscode-notebook-cell:/c%3A/OneDriveNus/OneDrive%20-%20National%20University%20of%20Singapore/Nus%20Year%204%20Sem%201/EE4211%20Data%20Science%20for%20the%20Internet%20of%20Things/Project/EE4211_Proj/part2.ipynb#W5sZmlsZQ%3D%3D?line=44'>45</a>\u001b[0m     df[heading] \u001b[39m=\u001b[39m df[\u001b[39m\"\u001b[39;49m\u001b[39mcarpark_info\u001b[39;49m\u001b[39m\"\u001b[39;49m]\u001b[39m.\u001b[39mapply(\u001b[39mlambda\u001b[39;00m x: x[\u001b[39m0\u001b[39m][heading])\n\u001b[0;32m     <a href='vscode-notebook-cell:/c%3A/OneDriveNus/OneDrive%20-%20National%20University%20of%20Singapore/Nus%20Year%204%20Sem%201/EE4211%20Data%20Science%20for%20the%20Internet%20of%20Things/Project/EE4211_Proj/part2.ipynb#W5sZmlsZQ%3D%3D?line=45'>46</a>\u001b[0m \u001b[39m# Transform data\u001b[39;00m\n\u001b[0;32m     <a href='vscode-notebook-cell:/c%3A/OneDriveNus/OneDrive%20-%20National%20University%20of%20Singapore/Nus%20Year%204%20Sem%201/EE4211%20Data%20Science%20for%20the%20Internet%20of%20Things/Project/EE4211_Proj/part2.ipynb#W5sZmlsZQ%3D%3D?line=46'>47</a>\u001b[0m df \u001b[39m=\u001b[39m df\u001b[39m.\u001b[39mdrop([\u001b[39m\"\u001b[39m\u001b[39mcarpark_info\u001b[39m\u001b[39m\"\u001b[39m], axis\u001b[39m=\u001b[39m\u001b[39m1\u001b[39m)\n",
      "File \u001b[1;32mc:\\Users\\yujin\\Anaconda3\\lib\\site-packages\\pandas\\core\\frame.py:3505\u001b[0m, in \u001b[0;36mDataFrame.__getitem__\u001b[1;34m(self, key)\u001b[0m\n\u001b[0;32m   3503\u001b[0m \u001b[39mif\u001b[39;00m \u001b[39mself\u001b[39m\u001b[39m.\u001b[39mcolumns\u001b[39m.\u001b[39mnlevels \u001b[39m>\u001b[39m \u001b[39m1\u001b[39m:\n\u001b[0;32m   3504\u001b[0m     \u001b[39mreturn\u001b[39;00m \u001b[39mself\u001b[39m\u001b[39m.\u001b[39m_getitem_multilevel(key)\n\u001b[1;32m-> 3505\u001b[0m indexer \u001b[39m=\u001b[39m \u001b[39mself\u001b[39;49m\u001b[39m.\u001b[39;49mcolumns\u001b[39m.\u001b[39;49mget_loc(key)\n\u001b[0;32m   3506\u001b[0m \u001b[39mif\u001b[39;00m is_integer(indexer):\n\u001b[0;32m   3507\u001b[0m     indexer \u001b[39m=\u001b[39m [indexer]\n",
      "File \u001b[1;32mc:\\Users\\yujin\\Anaconda3\\lib\\site-packages\\pandas\\core\\indexes\\base.py:3623\u001b[0m, in \u001b[0;36mIndex.get_loc\u001b[1;34m(self, key, method, tolerance)\u001b[0m\n\u001b[0;32m   3621\u001b[0m     \u001b[39mreturn\u001b[39;00m \u001b[39mself\u001b[39m\u001b[39m.\u001b[39m_engine\u001b[39m.\u001b[39mget_loc(casted_key)\n\u001b[0;32m   3622\u001b[0m \u001b[39mexcept\u001b[39;00m \u001b[39mKeyError\u001b[39;00m \u001b[39mas\u001b[39;00m err:\n\u001b[1;32m-> 3623\u001b[0m     \u001b[39mraise\u001b[39;00m \u001b[39mKeyError\u001b[39;00m(key) \u001b[39mfrom\u001b[39;00m \u001b[39merr\u001b[39;00m\n\u001b[0;32m   3624\u001b[0m \u001b[39mexcept\u001b[39;00m \u001b[39mTypeError\u001b[39;00m:\n\u001b[0;32m   3625\u001b[0m     \u001b[39m# If we have a listlike key, _check_indexing_error will raise\u001b[39;00m\n\u001b[0;32m   3626\u001b[0m     \u001b[39m#  InvalidIndexError. Otherwise we fall through and re-raise\u001b[39;00m\n\u001b[0;32m   3627\u001b[0m     \u001b[39m#  the TypeError.\u001b[39;00m\n\u001b[0;32m   3628\u001b[0m     \u001b[39mself\u001b[39m\u001b[39m.\u001b[39m_check_indexing_error(key)\n",
      "\u001b[1;31mKeyError\u001b[0m: 'carpark_info'"
     ]
    }
   ],
   "source": [
    "#test set - august\n",
    "\n",
    "# start date 1 Aug 2022 0000\n",
    "\n",
    "year = 2022\n",
    "month = 8\n",
    "day = 1\n",
    "hour = 0\n",
    "minute = 1\n",
    "second = 1\n",
    "\n",
    "dt = datetime(year, month, day, hour, minute, second)\n",
    "dt_interval = timedelta(hours = 1)\n",
    "total_hrs = 24*30\n",
    "\n",
    "# day of week,time of day\n",
    "test_x = [[],[]]\n",
    "# avalibility percentage\n",
    "test_y = []\n",
    "\n",
    "# generate data\n",
    "for hr in range(total_hrs):\n",
    "    dt = dt + dt_interval\n",
    "    df = carparkApiCall(str(dt.year), str(dt.month), str(dt.day), str(dt.hour), str(dt.minute), str(dt.second), 0)\n",
    "    test_y.append(avrAvail(df))\n",
    "    test_x[0].append(df.loc[0,'update_datetime'].weekday())\n",
    "    test_x[1].append(df.loc[0,'update_datetime'].timestamp())\n",
    "    "
   ]
  },
  {
   "cell_type": "code",
   "execution_count": 55,
   "metadata": {},
   "outputs": [
    {
     "name": "stdout",
     "output_type": "stream",
     "text": [
      "y = -5.312066096435077e-07 x1 + 5.312050687585339e-07 x2 + 0.5000241065237478\n"
     ]
    }
   ],
   "source": [
    "import sklearn.linear_model as lm\n",
    "\n",
    "regressor = lm.LinearRegression()  \n",
    "regressor.fit(train_x.reshape(-1, 2), train_y) #training the algorithm\n",
    "print(\"y =\",regressor.coef_[0],\"x1 +\",regressor.coef_[1],\"x2 +\",regressor.intercept_)\n"
   ]
  },
  {
   "cell_type": "markdown",
   "metadata": {},
   "source": [
    "**Question 2.3**<br>\n",
    "Do the same as Question 2.2 above but use support vector regressor (SVR).\n"
   ]
  },
  {
   "cell_type": "code",
   "execution_count": null,
   "metadata": {},
   "outputs": [],
   "source": []
  },
  {
   "cell_type": "markdown",
   "metadata": {},
   "source": [
    "**Question 2.4**<br>\n",
    "Do the same as Question 2.2 above but use decision tree (DT) regressor."
   ]
  },
  {
   "cell_type": "code",
   "execution_count": null,
   "metadata": {},
   "outputs": [],
   "source": []
  },
  {
   "cell_type": "markdown",
   "metadata": {},
   "source": [
    "**Question 2.5**<br>\n",
    "Make a final recommendation for the best regression model (out of the 3 methods above)\n",
    "by choosing a suitable performance metric. To ensure a fair comparison, carry out hyper-parameter tuning for all 3 methods. Then, make a final recommendation selecting only\n",
    "one model. Include both quantitative and qualitative arguments for your choice.\n"
   ]
  },
  {
   "cell_type": "code",
   "execution_count": null,
   "metadata": {},
   "outputs": [],
   "source": []
  }
 ],
 "metadata": {
  "kernelspec": {
   "display_name": "Python 3.9.12 ('base')",
   "language": "python",
   "name": "python3"
  },
  "language_info": {
   "codemirror_mode": {
    "name": "ipython",
    "version": 3
   },
   "file_extension": ".py",
   "mimetype": "text/x-python",
   "name": "python",
   "nbconvert_exporter": "python",
   "pygments_lexer": "ipython3",
   "version": "3.9.12"
  },
  "orig_nbformat": 4,
  "vscode": {
   "interpreter": {
    "hash": "dfc646ace96e46a9e7957d526a3b1ae5c0eae926cd62f2c7ce0535c6af85fd9b"
   }
  }
 },
 "nbformat": 4,
 "nbformat_minor": 2
}
