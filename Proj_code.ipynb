{
 "cells": [
  {
   "cell_type": "markdown",
   "id": "e8293193",
   "metadata": {},
   "source": [
    "**API Import**"
   ]
  },
  {
   "cell_type": "code",
   "execution_count": 2,
   "id": "6378251a",
   "metadata": {},
   "outputs": [],
   "source": [
    "import requests\n",
    "import json\n",
    "import pandas as pd\n",
    "from datetime import datetime\n",
    "from time import sleep\n",
    "import os\n",
    "\n",
    "# Convert to datetime iso\n",
    "def toIso(dt):\n",
    "    return datetime.fromisoformat(dt)\n",
    "    \n",
    "\n",
    "def carparkApiCall(year, month, day, hour, minute, second, error_count):\n",
    "    fDir = f'./data/{year}{month}{day}T{hour.zfill(2)}{minute.zfill(2)}{second.zfill(2)}.json'\n",
    "    try:\n",
    "        open(fDir, 'r')\n",
    "    except:\n",
    "        os.makedirs(os.path.dirname('./data/'), exist_ok=True)\n",
    "        # If file doesn't exist, api call\n",
    "        site = f'https://api.data.gov.sg/v1/transport/carpark-availability?date_time={year}-{month.zfill(2)}-{day.zfill(2)}T{hour.zfill(2)}%3A{minute.zfill(2)}%3A{second.zfill(2)}'\n",
    "        # print(site)\n",
    "        response_API = requests.get(site)\n",
    "        data = response_API.text\n",
    "        data = json.loads(data)\n",
    "        try:\n",
    "            timestamp = data[\"items\"][0][\"timestamp\"]\n",
    "            data = data[\"items\"][0][\"carpark_data\"]\n",
    "        except:\n",
    "            print(data)\n",
    "            print(year,'/', month, '/', day, 'T', hour, minute, second)\n",
    "            error_count+=1\n",
    "            print(\"error count:\", error_count)\n",
    "            if error_count<=5:\n",
    "                return carparkApiCall(year, month, day, hour, minute, second, error_count)\n",
    "            else:\n",
    "                \"Api call failed more than 5 times :(\"\n",
    "        # print(timestamp)\n",
    "        with open(fDir, 'w') as fp:\n",
    "            json.dump(data, fp)\n",
    "    df = pd.read_json(fDir)\n",
    "    for heading in (\"total_lots\",\"lot_type\",\"lots_available\"):\n",
    "        df[heading] = df[\"carpark_info\"].apply(lambda x: x[0][heading])\n",
    "    # Transform data\n",
    "    df = df.drop([\"carpark_info\"], axis=1)\n",
    "    df['update_datetime'] = df['update_datetime'].apply(toIso)\n",
    "    df[\"lots_available\"] = df[\"lots_available\"].astype(int)\n",
    "    df[\"total_lots\"] = df[\"total_lots\"].astype(int)\n",
    "    return df"
   ]
  },
  {
   "cell_type": "markdown",
   "id": "cfd4987f",
   "metadata": {},
   "source": [
    " **Question 1.1**\n",
    " LTA Datamall API documentation\n",
    " Type of lots:\n",
    "- C (for Cars)\n",
    "- H (for Heavy Vehicles)\n",
    "- Y (for Motorcycles)\n",
    "\n",
    "![image.png](attachment:image.png)\n",
    "https://datamall.lta.gov.sg/content/dam/datamall/datasets/LTA_DataMall_API_User_Guide.pdf"
   ]
  },
  {
   "cell_type": "markdown",
   "id": "26e9de9c",
   "metadata": {},
   "source": [
    "**Question 1.2**"
   ]
  },
  {
   "cell_type": "code",
   "execution_count": 3,
   "id": "3fa148a9",
   "metadata": {},
   "outputs": [
    {
     "data": {
      "text/plain": [
       "Timestamp('2022-01-17 04:20:12')"
      ]
     },
     "execution_count": 3,
     "metadata": {},
     "output_type": "execute_result"
    }
   ],
   "source": [
    "year = \"2022\"\n",
    "month = \"1\"\n",
    "day = \"17\"\n",
    "hour = \"4\"\n",
    "minute = \"30\"\n",
    "second = \"0\"\n",
    "curr_df = carparkApiCall(year, month, day, hour, minute, second,0)\n",
    "curr_df.loc[0,'update_datetime']\n",
    "# print(curr_df.head())"
   ]
  },
  {
   "cell_type": "markdown",
   "id": "97529c41",
   "metadata": {},
   "source": [
    "1 second later"
   ]
  },
  {
   "cell_type": "code",
   "execution_count": 4,
   "id": "2c85b333",
   "metadata": {},
   "outputs": [
    {
     "data": {
      "text/plain": [
       "Timestamp('2022-01-17 04:20:12')"
      ]
     },
     "execution_count": 4,
     "metadata": {},
     "output_type": "execute_result"
    }
   ],
   "source": [
    "second = str(int(second) + 1)\n",
    "next_df = carparkApiCall(year, month, day, hour, minute, second,0)\n",
    "next_df.loc[0,'update_datetime']"
   ]
  },
  {
   "cell_type": "markdown",
   "id": "767f7052",
   "metadata": {},
   "source": [
    "Iterate through intervals of 5 mins for 5 random hours and average the time difference of update_datetime."
   ]
  },
  {
   "cell_type": "code",
   "execution_count": 5,
   "id": "9e26b2d5",
   "metadata": {},
   "outputs": [
    {
     "name": "stdout",
     "output_type": "stream",
     "text": [
      "0 days 00:30:30.200000\n"
     ]
    }
   ],
   "source": [
    "from datetime import timedelta\n",
    "from random import randint\n",
    "from random import seed\n",
    "\n",
    "total_time_interval = timedelta()\n",
    "seed(10)\n",
    "for _ in range (5):\n",
    "    # samples for 5 different hours\n",
    "    hour = str(randint(0,23))\n",
    "    minute = \"0\"\n",
    "    prev_df = carparkApiCall(year, month, day, hour, minute, second, 0)   \n",
    "    for i in range(5,59,5):\n",
    "        # Iterate through interval of 5 mins\n",
    "        next_min = str(int(minute) + i)\n",
    "        next_df = carparkApiCall(year, month, day, hour, next_min, second, 0)\n",
    "        # When different update_datetime is found\n",
    "        if(prev_df.loc[0,'update_datetime'] != next_df.loc[0,'update_datetime']):\n",
    "            prev_datetime = prev_df.loc[0,'update_datetime']\n",
    "            next_datetime = next_df.loc[0,'update_datetime']\n",
    "            total_time_interval += next_datetime - prev_datetime\n",
    "            break\n",
    "# Average time interval\n",
    "print(total_time_interval/5)"
   ]
  },
  {
   "cell_type": "markdown",
   "id": "01303613",
   "metadata": {},
   "source": [
    "**ANSWER**<br>\n",
    "Approximate frequency at which the data values are updated is 30 mins 30 seconds"
   ]
  },
  {
   "cell_type": "markdown",
   "id": "42b6aced",
   "metadata": {},
   "source": [
    "**Question 1.3**\n"
   ]
  },
  {
   "cell_type": "markdown",
   "id": "753a6204",
   "metadata": {},
   "source": [
    "**Part I**<br>\n",
    "How many carparks are included in the data.gov.sg car park database?\n",
    "There are 1966 carparks as of 1st October 2022"
   ]
  },
  {
   "cell_type": "code",
   "execution_count": 6,
   "id": "1a75b5e5",
   "metadata": {},
   "outputs": [
    {
     "name": "stdout",
     "output_type": "stream",
     "text": [
      "There are 1968 carparks as of 14/10/2022\n"
     ]
    }
   ],
   "source": [
    "year = 2022\n",
    "month = 10\n",
    "day = 14\n",
    "hour = 0\n",
    "minute = 1\n",
    "second = 0\n",
    "\n",
    "dt = datetime(year, month, day, hour, minute, second)\n",
    "# generate data\n",
    "df = carparkApiCall(str(dt.year), str(dt.month), str(dt.day), str(dt.hour), str(dt.minute), str(dt.second), 0)\n",
    "carpark_count = pd.DataFrame(df).drop_duplicates(subset='carpark_number', keep=\"last\")[\"carpark_number\"].count()\n",
    "print(f'There are {carpark_count} carparks as of {day}/{month}/{year}')"
   ]
  },
  {
   "cell_type": "markdown",
   "id": "ebba7cef",
   "metadata": {},
   "source": [
    "**Part II**<br>\n",
    "Does this number vary based on the time? You should notice that it does vary with time."
   ]
  },
  {
   "cell_type": "code",
   "execution_count": 7,
   "id": "f79af1b2",
   "metadata": {},
   "outputs": [
    {
     "name": "stdout",
     "output_type": "stream",
     "text": [
      "There are 1958 carparks as of 2/2/2022\n",
      "There are 1959 carparks as of 2/3/2022\n",
      "There are 1960 carparks as of 2/4/2022\n",
      "There are 1962 carparks as of 2/5/2022\n",
      "There are 1962 carparks as of 2/6/2022\n",
      "There are 1962 carparks as of 2/7/2022\n",
      "There are 1962 carparks as of 2/8/2022\n",
      "There are 1965 carparks as of 2/9/2022\n",
      "There are 1966 carparks as of 2/10/2022\n"
     ]
    }
   ],
   "source": [
    "year = 2022\n",
    "month = 2\n",
    "day = 2\n",
    "hour = 0\n",
    "minute = 1\n",
    "second = 0\n",
    "\n",
    "while month<=10:\n",
    "    dt = datetime(year, month, day, hour, minute, second)\n",
    "    # generate data\n",
    "    \n",
    "    df = carparkApiCall(str(dt.year), str(dt.month), str(dt.day), str(dt.hour), str(dt.minute), str(dt.second), 0)\n",
    "    carpark_count = pd.DataFrame(df).drop_duplicates(subset='carpark_number', keep=\"last\")[\"carpark_number\"].count()\n",
    "    print(f'There are {carpark_count} carparks as of {day}/{month}/{year}')\n",
    "    month += 1"
   ]
  },
  {
   "cell_type": "markdown",
   "id": "55f09ed0",
   "metadata": {},
   "source": [
    "There are more carparks added every month."
   ]
  },
  {
   "cell_type": "markdown",
   "id": "9249bb3f",
   "metadata": {},
   "source": [
    "**Part III**<br>\n",
    "A\n",
    "carpark may have malfunctioning sensors and nor report its data. Identify one of these\n",
    "carparks with anomalous sensors and a time period where that carpark’s sensors were\n",
    "malfunctioning."
   ]
  },
  {
   "cell_type": "code",
   "execution_count": 8,
   "id": "b4e762f3",
   "metadata": {},
   "outputs": [
    {
     "name": "stdout",
     "output_type": "stream",
     "text": [
      "    carpark_number     update_datetime  total_lots lot_type  lots_available\n",
      "648          P40L1 2016-02-15 21:52:35           2        C               6\n",
      "549          Y49HV 2016-02-15 21:52:35           3        C              28\n",
      "649          P40L2 2016-02-15 21:52:35           3        C               6\n",
      "599          MR567 2016-02-15 21:52:35          38        C              94\n",
      "926           SK24 2016-02-19 11:19:28         181        Y             200\n",
      "927           SK24 2016-02-19 11:19:29         181        H             200\n",
      "These carparks have malfunctioning sensors at 1/9/2022 00:01 : ['P40L1', 'Y49HV', 'P40L2', 'MR567', 'SK24', 'SK24']\n"
     ]
    }
   ],
   "source": [
    "year = 2022\n",
    "month = 9\n",
    "day = 1\n",
    "hour = 0\n",
    "minute = 1\n",
    "second = 0\n",
    "\n",
    "malfunctioning = set()\n",
    "dt = datetime(year, month, day, hour, minute, second)\n",
    "# generate data\n",
    "df = carparkApiCall(str(dt.year), str(dt.month), str(dt.day), str(dt.hour), str(dt.minute), str(dt.second), 0)\n",
    "df.sort_values(by=['total_lots'], inplace=True)\n",
    "bad_carparks = df.loc[(df['lots_available'].astype(int) > df['total_lots'].astype(int))]\n",
    "print(bad_carparks)\n",
    "print(f'These carparks have malfunctioning sensors at {day}/{month}/{year} {str(hour).zfill(2)}:{str(minute).zfill(2)} :',list(bad_carparks[\"carpark_number\"]))"
   ]
  },
  {
   "cell_type": "code",
   "execution_count": 9,
   "id": "08a1faac",
   "metadata": {},
   "outputs": [
    {
     "data": {
      "image/png": "[encoded data removed]",
      "text/plain": [
       "<Figure size 432x288 with 1 Axes>"
      ]
     },
     "metadata": {
      "needs_background": "light"
     },
     "output_type": "display_data"
    }
   ],
   "source": [
    "#looking at MR567 \n",
    "# start date 1 Jul 2022 0000\n",
    "\n",
    "import matplotlib.pyplot as plt\n",
    "\n",
    "year = 2022\n",
    "month = 7\n",
    "day = 1\n",
    "hour = 0\n",
    "minute = 1\n",
    "second = 0\n",
    "\n",
    "dt = datetime(year, month, day, hour, minute, second)\n",
    "dt_interval = timedelta(hours = 1)\n",
    "total_hrs = 24*30\n",
    "lots_available = []\n",
    "total_lots = []\n",
    "# generate data\n",
    "for hr in range(total_hrs):\n",
    "    dt = dt + dt_interval\n",
    "    df = carparkApiCall(str(dt.year), str(dt.month), str(dt.day), str(dt.hour), str(dt.minute), str(dt.second), 0)\n",
    "    specific_data = df.loc[df[\"carpark_number\"] == \"MR567\"].head(1)\n",
    "    lots_available.append(specific_data[\"lots_available\"].iloc[0])\n",
    "    total_lots.append(specific_data[\"total_lots\"].iloc[0])\n",
    "plt.plot([x/24 for x in range(len(total_lots))], total_lots, label = \"total_lots\")\n",
    "plt.plot([x/24 for x in range(len(lots_available))], lots_available, label = \"lots_available\")\n",
    "plt.legend()\n",
    "plt.show()\n",
    "    \n"
   ]
  },
  {
   "cell_type": "markdown",
   "id": "6c67084c",
   "metadata": {},
   "source": [
    "**Question 1.4**<br>\n",
    "Generate hourly readings from the raw data. Select a one month interval and plot the\n",
    "hourly data (time-series) for that interval (aggregate results instead of plotting for each\n",
    "location individually). Identify any patterns in the visualization. Note: You will have to\n",
    "decide what to do if there are no carpark readings for a certain hour, for example, should\n",
    "you impute the missing data or ignore it."
   ]
  },
  {
   "cell_type": "code",
   "execution_count": 10,
   "id": "a6ba7fa7",
   "metadata": {},
   "outputs": [],
   "source": [
    "# Calculate average availability in percentage\n",
    "def avrAvail(df):\n",
    "    df[\"availability_percentage\"] = df[\"lots_available\"]/df[\"total_lots\"]\n",
    "    return df[\"availability_percentage\"].sum()/len(df.index)"
   ]
  },
  {
   "cell_type": "code",
   "execution_count": 11,
   "id": "8c6aba4a",
   "metadata": {},
   "outputs": [],
   "source": [
    "# start date 1 Jul 2022 0000\n",
    "year = 2022\n",
    "month = 7\n",
    "day = 1\n",
    "hour = 0\n",
    "minute = 1\n",
    "second = 0\n",
    "\n",
    "dt = datetime(year, month, day, hour, minute, second)\n",
    "dt_interval = timedelta(hours = 1)\n",
    "total_hrs = 24*30\n",
    "timeseries_data = {\n",
    "    'dt':[],\n",
    "    'avail': []\n",
    "}\n",
    "total_lots = []\n",
    "lots_available = []\n",
    "error_count = 0\n",
    "# generate data\n",
    "for hr in range(total_hrs):\n",
    "    dt = dt + dt_interval\n",
    "    df = carparkApiCall(str(dt.year), str(dt.month), str(dt.day), str(dt.hour), str(dt.minute), str(dt.second), 0)\n",
    "    lots_available.append(df[\"lots_available\"].sum())\n",
    "    total_lots.append(df[\"total_lots\"].sum())\n",
    "    timeseries_data['avail'].append(avrAvail(df))\n",
    "    timeseries_data['dt'].append(df.loc[0,'update_datetime'])\n",
    "\n",
    "    "
   ]
  },
  {
   "cell_type": "code",
   "execution_count": 12,
   "id": "f9a35557",
   "metadata": {},
   "outputs": [
    {
     "data": {
      "image/png": "[encoded data removed]",
      "text/plain": [
       "<Figure size 432x288 with 1 Axes>"
      ]
     },
     "metadata": {
      "needs_background": "light"
     },
     "output_type": "display_data"
    }
   ],
   "source": [
    "plt.plot(timeseries_data['dt'], timeseries_data[\"avail\"])\n",
    "plt.xlabel(\"Date\")\n",
    "plt.ylabel(\"Availability in percentage\")\n",
    "plt.show()"
   ]
  },
  {
   "cell_type": "code",
   "execution_count": 13,
   "id": "95db8e4d",
   "metadata": {},
   "outputs": [
    {
     "data": {
      "image/png": "[encoded data removed]",
      "text/plain": [
       "<Figure size 432x288 with 1 Axes>"
      ]
     },
     "metadata": {
      "needs_background": "light"
     },
     "output_type": "display_data"
    }
   ],
   "source": [
    "plt.plot([x/24 for x in range(len(total_lots))], total_lots, label = \"total_lots\")\n",
    "plt.plot([x/24 for x in range(len(lots_available))], lots_available, label = \"lots_available\")\n",
    "plt.legend()\n",
    "plt.show()"
   ]
  },
  {
   "cell_type": "code",
   "execution_count": 14,
   "id": "dfea9e13",
   "metadata": {},
   "outputs": [],
   "source": [
    "import numpy as np\n",
    "def correlation(arr1,arr2):\n",
    "    ret = np.corrcoef(arr1,arr2)\n",
    "    return ret[0][1]"
   ]
  },
  {
   "cell_type": "code",
   "execution_count": 15,
   "id": "0f4ac74a",
   "metadata": {},
   "outputs": [],
   "source": [
    "# start date 1 Jul 2022 0000\n",
    "year = 2022\n",
    "month = 7\n",
    "day = 1\n",
    "hour = 0\n",
    "minute = 1\n",
    "second = 0\n",
    "fgfgfg\n",
    "dt = datetime(year, month, day, hour, minute, second)\n",
    "dt_interval = timedelta(hours = 1)\n",
    "total_hrs = 24*30\n",
    "total_lots = []\n",
    "lots_available = []\n",
    "error_count = 0\n",
    "d = {}\n",
    "# generate data\n",
    "for hr in range(total_hrs):\n",
    "    dt = dt + dt_interval\n",
    "    df = carparkApiCall(str(dt.year), str(dt.month), str(dt.day), str(dt.hour), str(dt.minute), str(dt.second), 0)\n",
    "    for index, row in df.iterrows():\n",
    "        if row[\"carpark_number\"] in d:\n",
    "            d[row[\"carpark_number\"]].append((row[\"lots_available\"],row[\"total_lots\"]))\n",
    "        else:\n",
    "            d[row[\"carpark_number\"]] = [(row[\"lots_available\"],row[\"total_lots\"])]\n"
   ]
  },
  {
   "cell_type": "code",
   "execution_count": 16,
   "id": "302f6133",
   "metadata": {},
   "outputs": [
    {
     "name": "stderr",
     "output_type": "stream",
     "text": [
      "c:\\Users\\Ethan Wong\\anaconda3\\lib\\site-packages\\numpy\\lib\\function_base.py:2691: RuntimeWarning: invalid value encountered in true_divide\n",
      "  c /= stddev[:, None]\n",
      "c:\\Users\\Ethan Wong\\anaconda3\\lib\\site-packages\\numpy\\lib\\function_base.py:2692: RuntimeWarning: invalid value encountered in true_divide\n",
      "  c /= stddev[None, :]\n"
     ]
    },
    {
     "data": {
      "text/plain": [
       "[(0.9999999999999998, 'BJ65'),\n",
       " (0.9999999999999998, 'BL19'),\n",
       " (0.9999999999999998, 'C7'),\n",
       " (0.9999999999999998, 'CR30'),\n",
       " (0.9999999999999998, 'HE12')]"
      ]
     },
     "execution_count": 16,
     "metadata": {},
     "output_type": "execute_result"
    }
   ],
   "source": [
    "def get_top_correlated(carpark_number,d,top):\n",
    "    ls = []\n",
    "    for key in d:\n",
    "        if key != carpark_number:\n",
    "            ls.append((correlation(d[key],d[carpark_number]),key))\n",
    "    ls.sort()\n",
    "    return ls[:top]\n",
    "\n",
    "get_top_correlated(\"HLM\",d,5)"
   ]
  },
  {
   "cell_type": "code",
   "execution_count": null,
   "id": "861c2773",
   "metadata": {},
   "outputs": [],
   "source": [
    "das"
   ]
  }
 ],
 "metadata": {
  "kernelspec": {
   "display_name": "Python 3.9.12 ('base')",
   "language": "python",
   "name": "python3"
  },
  "language_info": {
   "codemirror_mode": {
    "name": "ipython",
    "version": 3
   },
   "file_extension": ".py",
   "mimetype": "text/x-python",
   "name": "python",
   "nbconvert_exporter": "python",
   "pygments_lexer": "ipython3",
   "version": "3.9.12"
  },
  "vscode": {
   "interpreter": {
    "hash": "5d6a7de9dbac0308830c172e983fe254bfbbbc6767d767c5ec13641270c4a541"
   }
  }
 },
 "nbformat": 4,
 "nbformat_minor": 5
}
